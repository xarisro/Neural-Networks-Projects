{
 "cells": [
  {
   "cell_type": "markdown",
   "metadata": {
    "collapsed": true
   },
   "source": [
    "### _Section 1_\n",
    "***\n",
    "### _1η Εργασία_ για το μάθημα _Νευρωνικά Δίκτυα και Ευφυή Υπολογιστικά Συστήματα_\n",
    "##### Big Dataset's Notebook B10\n",
    "***\n",
    "### _Ομάδα A52_\n",
    "    Μέλος 1 : Ρούλιος Χαράλαμπος    Α.Μ. 03114004\n",
    "    Μέλος 2 : Καλαβάσης Αλβέρτος    Α.Μ. 03114091 \n",
    "*** "
   ]
  },
  {
   "cell_type": "markdown",
   "metadata": {},
   "source": [
    "Πριν περάσουμε στο επόμενο section και την αρχή της εργασίας, πρέπει να αναφέρουμε πως o counter εκτέλεσης του notebook δεν ξεκινά από το 1 αλλά από μεγαλύτερη τιμή. Ο λόγος για αυτό είναι πως από την στιγμή που εκτελέσαμε διάφορα μοντέλα πάνω σε mlp (σε τοπικό υπολογιστή γιατί σε δύο cloud υπηρεσίες που δοκιμάσαμε, απαιτούσε πάρα πολύ χρόνο), δεν επανεκκινήσαμε ξανά τον πυρήνα του jupyter αλλά τρέχαμε διαρκώς ό,τι χρειαζόμασταν από την αρχή χωρίς να τρέχουμε ξανά τα cells που περιέχουν mlp κώδικα. Έτσι, αναπόφευκτα οι counters των cells θα είναι μεγάλοι και όχι απαραίτητα διαδοχικοί. Η παράδοση του ipynb μας γίνεται με όλα τα κελιά να έχουν τρέξει (είναι ορατό το output του κώδικα)"
   ]
  },
  {
   "cell_type": "markdown",
   "metadata": {},
   "source": [
    "### _Section 2 : Dataset Analysis_"
   ]
  },
  {
   "cell_type": "code",
   "execution_count": 6,
   "metadata": {},
   "outputs": [
    {
     "name": "stdout",
     "output_type": "stream",
     "text": [
      "Requirement already up-to-date: pip in /home/tyler/anaconda3/lib/python3.6/site-packages (18.1)\n",
      "Requirement already up-to-date: scikit-learn in /home/tyler/anaconda3/lib/python3.6/site-packages (0.20.1)\n",
      "Requirement already satisfied, skipping upgrade: numpy>=1.8.2 in /home/tyler/anaconda3/lib/python3.6/site-packages (from scikit-learn) (1.15.4)\n",
      "Requirement already satisfied, skipping upgrade: scipy>=0.13.3 in /home/tyler/anaconda3/lib/python3.6/site-packages (from scikit-learn) (1.1.0)\n",
      "Requirement already up-to-date: pandas in /home/tyler/anaconda3/lib/python3.6/site-packages (0.23.4)\n",
      "Requirement already satisfied, skipping upgrade: numpy>=1.9.0 in /home/tyler/anaconda3/lib/python3.6/site-packages (from pandas) (1.15.4)\n",
      "Requirement already satisfied, skipping upgrade: pytz>=2011k in /home/tyler/anaconda3/lib/python3.6/site-packages (from pandas) (2018.7)\n",
      "Requirement already satisfied, skipping upgrade: python-dateutil>=2.5.0 in /home/tyler/anaconda3/lib/python3.6/site-packages (from pandas) (2.7.5)\n",
      "Requirement already satisfied, skipping upgrade: six>=1.5 in /home/tyler/anaconda3/lib/python3.6/site-packages (from python-dateutil>=2.5.0->pandas) (1.11.0)\n",
      "Requirement already up-to-date: numpy in /home/tyler/anaconda3/lib/python3.6/site-packages (1.15.4)\n",
      "Requirement already up-to-date: scipy in /home/tyler/anaconda3/lib/python3.6/site-packages (1.1.0)\n",
      "Requirement already satisfied, skipping upgrade: numpy>=1.8.2 in /home/tyler/anaconda3/lib/python3.6/site-packages (from scipy) (1.15.4)\n",
      "Requirement already up-to-date: imbalanced-learn in /home/tyler/anaconda3/lib/python3.6/site-packages (0.4.3)\n",
      "Requirement already satisfied, skipping upgrade: scipy>=0.13.3 in /home/tyler/anaconda3/lib/python3.6/site-packages (from imbalanced-learn) (1.1.0)\n",
      "Requirement already satisfied, skipping upgrade: numpy>=1.8.2 in /home/tyler/anaconda3/lib/python3.6/site-packages (from imbalanced-learn) (1.15.4)\n",
      "Requirement already satisfied, skipping upgrade: scikit-learn>=0.20 in /home/tyler/anaconda3/lib/python3.6/site-packages (from imbalanced-learn) (0.20.1)\n"
     ]
    }
   ],
   "source": [
    "!pip install --upgrade pip\n",
    "!pip install --upgrade scikit-learn\n",
    "!pip install --upgrade pandas\n",
    "!pip install --upgrade numpy\n",
    "!pip install --upgrade scipy\n",
    "!pip install --upgrade imbalanced-learn\n",
    "%matplotlib inline\n",
    "import matplotlib.pyplot as plt\n",
    "import time\n",
    "import warnings \n",
    "warnings.filterwarnings('ignore')\n",
    "warnings.filterwarnings(\"ignore\", message=\"numpy.dtype size changed\")"
   ]
  },
  {
   "cell_type": "code",
   "execution_count": 7,
   "metadata": {},
   "outputs": [
    {
     "name": "stdout",
     "output_type": "stream",
     "text": [
      "A52-B10.ipynb  A52-S5.ipynb  A52-S5.py\r\n"
     ]
    }
   ],
   "source": [
    "!ls"
   ]
  },
  {
   "cell_type": "code",
   "execution_count": 8,
   "metadata": {},
   "outputs": [
    {
     "name": "stdout",
     "output_type": "stream",
     "text": [
      "Requirement already up-to-date: joblib in /home/tyler/anaconda3/lib/python3.6/site-packages (0.13.0)\n",
      "Requirement already satisfied: beautifultable in /home/tyler/anaconda3/lib/python3.6/site-packages (0.5.3)\n"
     ]
    }
   ],
   "source": [
    "# Parallel for loops.\n",
    "# https://joblib.readthedocs.io/en/latest/parallel.html\n",
    "!pip install --upgrade joblib\n",
    "!pip install beautifultable\n",
    "import itertools\n",
    "from beautifultable import BeautifulTable"
   ]
  },
  {
   "cell_type": "code",
   "execution_count": 9,
   "metadata": {},
   "outputs": [],
   "source": [
    "import numpy as np\n",
    "import pandas as pd\n",
    "# Read data from csv\n",
    "data = pd.read_csv(\"http://archive.ics.uci.edu/ml/machine-learning-databases/00388/data.csv\", header=None, low_memory=False).values"
   ]
  },
  {
   "cell_type": "code",
   "execution_count": 10,
   "metadata": {},
   "outputs": [],
   "source": [
    "# Source Code : https://scikit-learn.org/stable/auto_examples/model_selection/plot_confusion_matrix.html\n",
    "def plot_confusion_matrix(cm, classes,\n",
    "                          normalize=False,\n",
    "                          title='Confusion matrix',\n",
    "                          cmap=plt.cm.Blues):\n",
    "    \"\"\"\n",
    "    This function prints and plots the confusion matrix.\n",
    "    Normalization can be applied by setting `normalize=True`.\n",
    "    \"\"\"\n",
    "    if normalize:\n",
    "        cm = cm.astype('float') / cm.sum(axis=1)[:, np.newaxis]\n",
    "        print(\"Normalized confusion matrix\")\n",
    "    else:\n",
    "        print('Confusion matrix, without normalization')\n",
    "\n",
    "    print(cm)\n",
    "\n",
    "    plt.imshow(cm, interpolation='nearest', cmap=cmap)\n",
    "    plt.title(title)\n",
    "    plt.colorbar()\n",
    "    tick_marks = np.arange(len(classes))\n",
    "    plt.xticks(tick_marks, classes, rotation=45)\n",
    "    plt.yticks(tick_marks, classes)\n",
    "\n",
    "    fmt = '.2f' if normalize else 'd'\n",
    "    thresh = cm.max() / 2.\n",
    "    for i, j in itertools.product(range(cm.shape[0]), range(cm.shape[1])):\n",
    "        plt.text(j, i, format(cm[i, j], fmt),\n",
    "                 horizontalalignment=\"center\",\n",
    "                 color=\"white\" if cm[i, j] > thresh else \"black\")\n",
    "\n",
    "    plt.ylabel('True label')\n",
    "    plt.xlabel('Predicted label')\n",
    "    plt.tight_layout()\n",
    "    plt.show()"
   ]
  },
  {
   "cell_type": "markdown",
   "metadata": {},
   "source": [
    "<div class=\"alert alert-block alert-info\">\n",
    "<b>Question B1 : </b> Σύντομη παρουσίαση του dataset (τι περιγράφει).\n",
    "</div>"
   ]
  },
  {
   "cell_type": "markdown",
   "metadata": {},
   "source": [
    "Το B10 dataset αντιστοιχεί στο Epileptic Seizure Recognition Data Set. Το dataset αυτό είναι μία αναδομημένη εκδοχή του πιο συχνά χρησιμοποιημένου dataset για epileptic seizure detection (ESD Dataset). \n",
    "\n",
    "<div class=\"alert alert-block alert-info\">\n",
    "<b>Question B2 : </b> Αριθμός δειγμάτων και χαρακτηριστικών, είδος χαρακτηριστικών. Υπάρχουν μη διατεταγμένα χαρακτηριστικά και ποια είναι αυτά;\n",
    "</div>\n",
    "\n",
    "Περιέχει δεδομένα μίας χρονοσειράς, η οποία προέκυψε ως εξής :\n",
    "\n",
    "Το αρχικό σύνολο δεδομένων από το __[ESD Dataset](http://epileptologie-bonn.de/cms/front_content.php?idcat=193&lang=3&changelang=3)__  αποτελείται από 5 διαφορετικούς φακέλους (SET A, B, C, D, E). Κάθε φάκελος περιέχει 100 txt αρχεία, με κάθε αρχείο να αντιπροσωπεύει ένα άτομο. \n",
    "\n",
    "Κάθε αρχείο είναι μια καταγραφή της δραστηριότητας του εγκεφάλου (EEG) για 23,6 sec. Οι αντίστοιχες χρονοσειρές υποβάλλονται σε δειγματοληψία σε 4097 σημεία. 'Ετσι, κάθε σημείο δεδομένων είναι η τιμή της EEG σε διαφορετικό χρονικό σημείο. Έχουμε, λοιπόν, συνολικά 500 άτομα και το καθένα έχει 4097 σημεία δεδομένων για 23,6 sec.\n",
    "\n",
    "Στη συνέχεια, διαχωρίζουμε και ανακατεύουμε τα 4097 σημεία δεδομένων κάθε ατόμου σε 23 ίσα τμήματα. Έτσι, κάθε τμήμα περιέχει 178 σημεία δεδομένων για 1 δευτερόλεπτο και κάθε σημείο δεδομένων είναι η τιμή της εγγραφής EEG σε διαφορετικό χρονικό σημείο. Έτσι τώρα έχουμε 23 x 500 = 11500 δεδομένα (γραμμές) και κάθε γραμμή περιέχει τις 178 τιμές της EEG για αυτό το 1 δευτερόλεπτο (178 features). Η τελευταία στήλη (179η) αντιπροσωπεύει την ετικέτα y = {1,2,3,4,5}."
   ]
  },
  {
   "cell_type": "markdown",
   "metadata": {},
   "source": [
    "<table width=\\\"80%\\\">\n",
    "   <caption>Πίνακας $1$: Epileptic Seizure Recognition Dataset Characteristics.</caption>\n",
    "   <thead>\n",
    "   <tr>\n",
    "       <th>Number of Instances</th>\n",
    "       <th>Number of Attributes</th>\n",
    "       <th>Attribute Characteristics</th>\n",
    "       <th>Missing Values?</th>\n",
    "   </tr>\n",
    "   </thead>\n",
    "   <tbody>\n",
    "       <tr>\n",
    "           <td style=\\\"background-color:#F2F4F7\\\" rowspan=\\\"2\\\">11500</td>\n",
    "           <td style=\\\"background-color:#F2F4F7\\\" rowspan=\\\"2\\\">178</td>\n",
    "           <td style=\\\"background-color:#F2F4F7\\\" rowspan=\\\"2\\\">Real (EEG function values)</td>\n",
    "           <td style=\\\"background-color:#F2F4F7\\\">No</td>  \n",
    "       </tr>      \n",
    "   </tbody>\n",
    "</table>"
   ]
  },
  {
   "cell_type": "markdown",
   "metadata": {},
   "source": [
    "Επίσης, δεν εμφανίζονται μη διατεταγμένα χαρακτηριστικά αφού οι χώροι $\\mathbb{Z}_{2}$ και $\\mathbb{R}$ διατάσσονται με κατάλληλη πράξη σύγκρισης (π.χ $\\leq$)."
   ]
  },
  {
   "cell_type": "markdown",
   "metadata": {},
   "source": [
    "<div class=\"alert alert-block alert-info\">\n",
    "<b>Question B3 : </b> Υπάρχουν επικεφαλίδες; Αρίθμηση γραμμών;\n",
    "</div>\n",
    "\n",
    "Ναι, η πρώτη γραμμή και στήλη πρέπει να αφαιρεθούν."
   ]
  },
  {
   "cell_type": "markdown",
   "metadata": {},
   "source": [
    "<div class=\"alert alert-block alert-info\">\n",
    "<b>Question B4 : </b> Ποιες είναι οι ετικέτες των κλάσεων και σε ποια κολόνα βρίσκονται;\n",
    "</div>"
   ]
  },
  {
   "cell_type": "markdown",
   "metadata": {},
   "source": [
    "'Ετσι, για τον input vector $\\vec{X} \\in \\mathbb{R}^{178},$ η $y$ δίνει ένα label στο σύνολο {1,2,3,4,5}, όπου :\n",
    "\n",
    "-  5 : \"eyes open\" :: σημαίνει ότι κατά την καταγραφή του σήματος EEG του εγκεφάλου ο ασθενής είχε τα μάτια τους ανοιχτά.\n",
    "\n",
    "-  4 : \"eyes closed\" :: σημαίνει ότι κατά την καταγραφή του σήματος EEG ο ασθενής είχε τα μάτια κλειστά.\n",
    "\n",
    "-  3 ::  εντοπίζουν την περιοχή του όγκου στον εγκέφαλο και καταγράφουν τη δραστηριότητα του EEG από την υγιή περιοχή του εγκεφάλου.\n",
    "\n",
    "-  2 :: Καταγράφουν το EEG από την περιοχή όπου βρίσκεται ο όγκος.\n",
    "\n",
    "-  1 ::  Καταγραφή της seizure activity.\n",
    "\n",
    "***\n",
    "\n",
    "Όλα τα άτομα που εμπίπτουν στις κατηγορίες 2, 3, 4 και 5 είναι περιπτώσεις που δεν είχαν επιληπτική κρίση. Μόνο τα άτομα της κατηγορίας 1 έχουν επιληπτική κρίση.\n",
    "\n",
    "Το κίνητρό για τη δημιουργία αυτής της έκδοσης των δεδομένων ήταν να απλοποιηθεί η πρόσβαση στα δεδομένα μέσω της δημιουργίας μιας έκδοσης .csv.  Αν και υπάρχουν 5 τάξεις, οι περισσότεροι συγγραφείς έχουν κάνει δυαδική ταξινόμηση, δηλαδή τάξη 1 (Επιληπτική κρίση) έναντι των υπόλοιπων."
   ]
  },
  {
   "cell_type": "markdown",
   "metadata": {},
   "source": [
    "<div class=\"alert alert-block alert-info\">\n",
    "<b>Question B5 : </b>Χρειάστηκε να κάνετε μετατροπές στα αρχεία text και ποιες?\n",
    "</div>\n",
    "\n",
    "Όχι. Μόνο να αφαιρέσουμε τη πρώτη γραμμή και στήλη."
   ]
  },
  {
   "cell_type": "markdown",
   "metadata": {},
   "source": [
    "<div class=\"alert alert-block alert-info\">\n",
    "<b>Question B6 : </b>Υπάρχουν απουσιάζουσες τιμές; Πόσα είναι τα δείγματα με απουσιάζουσες τιμές και ποιο το ποσοστό τους επί του συνόλου;\n",
    "</div>\n",
    "\n",
    "Όχι. Κάθε κελί έχει μία valid τιμή της EEG. Δεν υπάρχουν τιμές NaN."
   ]
  },
  {
   "cell_type": "markdown",
   "metadata": {},
   "source": [
    "##### Dataset Analysis."
   ]
  },
  {
   "cell_type": "markdown",
   "metadata": {},
   "source": [
    "Παρακάτω, πρέπει να πετάξουμε την πρώτη γραμμή και στήλη των δεδομένων μας, λόγω του ότι περιέχει ετικέτες για τις γραμμές και στήλες. \n",
    "\n"
   ]
  },
  {
   "cell_type": "code",
   "execution_count": 12,
   "metadata": {},
   "outputs": [
    {
     "name": "stdout",
     "output_type": "stream",
     "text": [
      "+----------+-------+---------+\n",
      "|   Data   | Rows  | Columns |\n",
      "+----------+-------+---------+\n",
      "| Features | 11500 |   178   |\n",
      "+----------+-------+---------+\n",
      "| Targets  | 11500 |    1    |\n",
      "+----------+-------+---------+\n"
     ]
    }
   ],
   "source": [
    "features = data[1:, 1:-1] \n",
    "targets = data[1:, -1]\n",
    "\n",
    "# If you want a data subspace for faster results.\n",
    "# samples = 1000\n",
    "# features = features[0:samples, :]\n",
    "# targets = targets[0:samples]\n",
    "\n",
    "table = BeautifulTable()\n",
    "table.column_headers = [\"Data\", \"Rows\", \"Columns\"]\n",
    "table.append_row(['Features', features.shape[0], features.shape[1]])\n",
    "table.append_row(['Targets', targets.shape[0], 1])\n",
    "print(table)"
   ]
  },
  {
   "cell_type": "markdown",
   "metadata": {},
   "source": [
    "Ας δούμε ένα τμήμα των features και των targets."
   ]
  },
  {
   "cell_type": "code",
   "execution_count": 13,
   "metadata": {},
   "outputs": [
    {
     "data": {
      "text/html": [
       "<div>\n",
       "<style scoped>\n",
       "    .dataframe tbody tr th:only-of-type {\n",
       "        vertical-align: middle;\n",
       "    }\n",
       "\n",
       "    .dataframe tbody tr th {\n",
       "        vertical-align: top;\n",
       "    }\n",
       "\n",
       "    .dataframe thead th {\n",
       "        text-align: right;\n",
       "    }\n",
       "</style>\n",
       "<table border=\"1\" class=\"dataframe\">\n",
       "  <thead>\n",
       "    <tr style=\"text-align: right;\">\n",
       "      <th></th>\n",
       "      <th>0</th>\n",
       "      <th>1</th>\n",
       "      <th>2</th>\n",
       "      <th>3</th>\n",
       "      <th>4</th>\n",
       "      <th>5</th>\n",
       "      <th>6</th>\n",
       "      <th>7</th>\n",
       "      <th>8</th>\n",
       "      <th>9</th>\n",
       "      <th>...</th>\n",
       "      <th>168</th>\n",
       "      <th>169</th>\n",
       "      <th>170</th>\n",
       "      <th>171</th>\n",
       "      <th>172</th>\n",
       "      <th>173</th>\n",
       "      <th>174</th>\n",
       "      <th>175</th>\n",
       "      <th>176</th>\n",
       "      <th>177</th>\n",
       "    </tr>\n",
       "  </thead>\n",
       "  <tbody>\n",
       "    <tr>\n",
       "      <th>0</th>\n",
       "      <td>135</td>\n",
       "      <td>190</td>\n",
       "      <td>229</td>\n",
       "      <td>223</td>\n",
       "      <td>192</td>\n",
       "      <td>125</td>\n",
       "      <td>55</td>\n",
       "      <td>-9</td>\n",
       "      <td>-33</td>\n",
       "      <td>-38</td>\n",
       "      <td>...</td>\n",
       "      <td>8</td>\n",
       "      <td>-17</td>\n",
       "      <td>-15</td>\n",
       "      <td>-31</td>\n",
       "      <td>-77</td>\n",
       "      <td>-103</td>\n",
       "      <td>-127</td>\n",
       "      <td>-116</td>\n",
       "      <td>-83</td>\n",
       "      <td>-51</td>\n",
       "    </tr>\n",
       "    <tr>\n",
       "      <th>1</th>\n",
       "      <td>386</td>\n",
       "      <td>382</td>\n",
       "      <td>356</td>\n",
       "      <td>331</td>\n",
       "      <td>320</td>\n",
       "      <td>315</td>\n",
       "      <td>307</td>\n",
       "      <td>272</td>\n",
       "      <td>244</td>\n",
       "      <td>232</td>\n",
       "      <td>...</td>\n",
       "      <td>168</td>\n",
       "      <td>164</td>\n",
       "      <td>150</td>\n",
       "      <td>146</td>\n",
       "      <td>152</td>\n",
       "      <td>157</td>\n",
       "      <td>156</td>\n",
       "      <td>154</td>\n",
       "      <td>143</td>\n",
       "      <td>129</td>\n",
       "    </tr>\n",
       "    <tr>\n",
       "      <th>2</th>\n",
       "      <td>-32</td>\n",
       "      <td>-39</td>\n",
       "      <td>-47</td>\n",
       "      <td>-37</td>\n",
       "      <td>-32</td>\n",
       "      <td>-36</td>\n",
       "      <td>-57</td>\n",
       "      <td>-73</td>\n",
       "      <td>-85</td>\n",
       "      <td>-94</td>\n",
       "      <td>...</td>\n",
       "      <td>29</td>\n",
       "      <td>57</td>\n",
       "      <td>64</td>\n",
       "      <td>48</td>\n",
       "      <td>19</td>\n",
       "      <td>-12</td>\n",
       "      <td>-30</td>\n",
       "      <td>-35</td>\n",
       "      <td>-35</td>\n",
       "      <td>-36</td>\n",
       "    </tr>\n",
       "    <tr>\n",
       "      <th>3</th>\n",
       "      <td>-105</td>\n",
       "      <td>-101</td>\n",
       "      <td>-96</td>\n",
       "      <td>-92</td>\n",
       "      <td>-89</td>\n",
       "      <td>-95</td>\n",
       "      <td>-102</td>\n",
       "      <td>-100</td>\n",
       "      <td>-87</td>\n",
       "      <td>-79</td>\n",
       "      <td>...</td>\n",
       "      <td>-80</td>\n",
       "      <td>-82</td>\n",
       "      <td>-81</td>\n",
       "      <td>-80</td>\n",
       "      <td>-77</td>\n",
       "      <td>-85</td>\n",
       "      <td>-77</td>\n",
       "      <td>-72</td>\n",
       "      <td>-69</td>\n",
       "      <td>-65</td>\n",
       "    </tr>\n",
       "    <tr>\n",
       "      <th>4</th>\n",
       "      <td>-9</td>\n",
       "      <td>-65</td>\n",
       "      <td>-98</td>\n",
       "      <td>-102</td>\n",
       "      <td>-78</td>\n",
       "      <td>-48</td>\n",
       "      <td>-16</td>\n",
       "      <td>0</td>\n",
       "      <td>-21</td>\n",
       "      <td>-59</td>\n",
       "      <td>...</td>\n",
       "      <td>10</td>\n",
       "      <td>4</td>\n",
       "      <td>2</td>\n",
       "      <td>-12</td>\n",
       "      <td>-32</td>\n",
       "      <td>-41</td>\n",
       "      <td>-65</td>\n",
       "      <td>-83</td>\n",
       "      <td>-89</td>\n",
       "      <td>-73</td>\n",
       "    </tr>\n",
       "  </tbody>\n",
       "</table>\n",
       "<p>5 rows × 178 columns</p>\n",
       "</div>"
      ],
      "text/plain": [
       "    0     1    2     3    4    5     6     7    8    9   ...   168  169  170  \\\n",
       "0   135   190  229   223  192  125    55    -9  -33  -38 ...     8  -17  -15   \n",
       "1   386   382  356   331  320  315   307   272  244  232 ...   168  164  150   \n",
       "2   -32   -39  -47   -37  -32  -36   -57   -73  -85  -94 ...    29   57   64   \n",
       "3  -105  -101  -96   -92  -89  -95  -102  -100  -87  -79 ...   -80  -82  -81   \n",
       "4    -9   -65  -98  -102  -78  -48   -16     0  -21  -59 ...    10    4    2   \n",
       "\n",
       "   171  172   173   174   175  176  177  \n",
       "0  -31  -77  -103  -127  -116  -83  -51  \n",
       "1  146  152   157   156   154  143  129  \n",
       "2   48   19   -12   -30   -35  -35  -36  \n",
       "3  -80  -77   -85   -77   -72  -69  -65  \n",
       "4  -12  -32   -41   -65   -83  -89  -73  \n",
       "\n",
       "[5 rows x 178 columns]"
      ]
     },
     "execution_count": 13,
     "metadata": {},
     "output_type": "execute_result"
    }
   ],
   "source": [
    "features_pd = pd.DataFrame(data=features)\n",
    "features_pd.head()"
   ]
  },
  {
   "cell_type": "code",
   "execution_count": 14,
   "metadata": {},
   "outputs": [
    {
     "data": {
      "text/html": [
       "<div>\n",
       "<style scoped>\n",
       "    .dataframe tbody tr th:only-of-type {\n",
       "        vertical-align: middle;\n",
       "    }\n",
       "\n",
       "    .dataframe tbody tr th {\n",
       "        vertical-align: top;\n",
       "    }\n",
       "\n",
       "    .dataframe thead th {\n",
       "        text-align: right;\n",
       "    }\n",
       "</style>\n",
       "<table border=\"1\" class=\"dataframe\">\n",
       "  <thead>\n",
       "    <tr style=\"text-align: right;\">\n",
       "      <th></th>\n",
       "      <th>0</th>\n",
       "    </tr>\n",
       "  </thead>\n",
       "  <tbody>\n",
       "    <tr>\n",
       "      <th>0</th>\n",
       "      <td>4</td>\n",
       "    </tr>\n",
       "    <tr>\n",
       "      <th>1</th>\n",
       "      <td>1</td>\n",
       "    </tr>\n",
       "    <tr>\n",
       "      <th>2</th>\n",
       "      <td>5</td>\n",
       "    </tr>\n",
       "    <tr>\n",
       "      <th>3</th>\n",
       "      <td>5</td>\n",
       "    </tr>\n",
       "    <tr>\n",
       "      <th>4</th>\n",
       "      <td>5</td>\n",
       "    </tr>\n",
       "  </tbody>\n",
       "</table>\n",
       "</div>"
      ],
      "text/plain": [
       "   0\n",
       "0  4\n",
       "1  1\n",
       "2  5\n",
       "3  5\n",
       "4  5"
      ]
     },
     "execution_count": 14,
     "metadata": {},
     "output_type": "execute_result"
    }
   ],
   "source": [
    "targets_pd = pd.DataFrame(data=targets)\n",
    "targets_pd.head()"
   ]
  },
  {
   "cell_type": "markdown",
   "metadata": {},
   "source": [
    "-  Σημειώνεται πως, σύμφωνα με το επίσημο archive του dataset μας (UCI Repository), to dataset μας δεν έχει missing values.\n",
    "\n",
    "Επίσης, στο παρακάτω cell, από τη στιγμή που τα labels μας δεν είναι 0-1, αλλά τα ονόματα των κλάσεων είναι ακέραιοι αριθμοί (1-5), πρέπει για κάποιους classifiers, να τα μετατρέψουμε σε μία binary αναπαράσταση. Αυτή θα ονομάζεται targets_bin. Όμως,  όλοι οι ταξινομητές που χρησιμοποιούμε (GNB, kNN, MLP) είναι inherently multiclass και δεν χρειάζεται να κάνουμε one-vs-all. "
   ]
  },
  {
   "cell_type": "code",
   "execution_count": 16,
   "metadata": {},
   "outputs": [
    {
     "name": "stdout",
     "output_type": "stream",
     "text": [
      "+----------------+-------+---------+\n",
      "|      Data      | Rows  | Columns |\n",
      "+----------------+-------+---------+\n",
      "| Targets_Binary | 11500 |    5    |\n",
      "+----------------+-------+---------+\n"
     ]
    }
   ],
   "source": [
    "from sklearn.preprocessing import MultiLabelBinarizer\n",
    "warnings.filterwarnings('ignore')\n",
    "mlb = MultiLabelBinarizer().fit(['1', '2', '3', '4', '5'])\n",
    "targets_bin = mlb.transform(targets)\n",
    "\n",
    "table_drc = BeautifulTable()\n",
    "table_drc.column_headers = [\"Data\", \"Rows\", \"Columns\"]\n",
    "table_drc.append_row(['Targets_Binary', targets_bin.shape[0], targets_bin.shape[1]])\n",
    "print(table_drc)"
   ]
  },
  {
   "cell_type": "markdown",
   "metadata": {},
   "source": [
    "<div class=\"alert alert-block alert-info\">\n",
    "<b>Question B8 : </b>Διαχωρίστε σε train και test set. Εάν υπάρχουν απουσιάζουσες τιμές και μη διατεταγμένα χαρακτηριστικά διαχειριστείτε τα και αιτιολογήστε τις επιλογές σας.\n",
    "</div> "
   ]
  },
  {
   "cell_type": "markdown",
   "metadata": {},
   "source": [
    "Χωρίζουμε τα data μας σε training και testing sets με αναλογία 30%."
   ]
  },
  {
   "cell_type": "code",
   "execution_count": 18,
   "metadata": {},
   "outputs": [],
   "source": [
    "# If I want targets to be binary.\n",
    "warnings.filterwarnings('ignore')\n",
    "from sklearn.model_selection import train_test_split\n",
    "X_train, X_test, y_train, y_test = train_test_split(features, targets_bin, test_size=0.30, random_state=20176)"
   ]
  },
  {
   "cell_type": "code",
   "execution_count": 19,
   "metadata": {},
   "outputs": [],
   "source": [
    "# If I want targets to be multiclass.\n",
    "# X_train, X_test, y_train, y_test = train_test_split(features, targets, test_size=0.30, random_state=20176)"
   ]
  },
  {
   "cell_type": "markdown",
   "metadata": {},
   "source": [
    "Παρακάτω, τα targets μας θα είναι multiclass (1-5). Τα dum_y_train, dum_y_test θα είναι πίνακες στήλες όπου θα περιέχουν τιμές στο σύνολο των labels (1-5). Απλά επειδή θέλουμε να κάνουμε μία μελέτη των περιεχομένων των labels για θέματα balancing, επιλέξαμε στην αρχή να έχουμε μία μορφή targets_bin με binary classes και, στην συνέχεια, τα γυρνάμε πίσω σε multiclass μορφή στις μεταβλητές dum_y_train, dum_y_test.  "
   ]
  },
  {
   "cell_type": "markdown",
   "metadata": {},
   "source": [
    "##### Preprocessing.\n",
    "\n",
    "Τα βήματα προεπεξεργασίας στοχεύουν:\n",
    "* Στην αφαίρεση η αντικατάσταση απουσιάζουσων τιμών από το dataset.\n",
    "* Στη μετατροπή των κατηγορικών μεταβλητών κατάλληλα ώστε να μπορούν να τους διαχειριστούν αλγόριθμοι μηχανικής μάθησης.\n",
    "* Στην επιλογή ή εξαγωγή των κατάλληλων χαρακτηριστικών για το μοντέλο μας.\n",
    "\n",
    "Τα στάδια που εφαρμόζουμε στο μοντέλο μας παρουσιάζονται παρακάτω. Σημειώνεται πως, επειδή στο τελικό στάδιο της εργασίας (στο optimization) μελετάμε την συμπεριφορά του μοντέλου αν εφαρμόσουμε ένα μέρος του preprocessing, αποθηκεύουμε σε κάθε στάδιο τους μέχρι τότε μετασχηματισμένους πίνακες :\n",
    "\n",
    "To dataset μας είναι καθαρό από την μεριά των missing values και άρα παιρνάμε απ' ευθείας στο στάδιο της κανονικοποίησης των δεδομένων.\n",
    "\n",
    "-  Πριν το normalization (αρχικό dataset) (πίνακες X_train_init, X_test_init). \n",
    "\n",
    "-  Normalization (πίνακες X_train_scaled, X_test_scaled).\n",
    "\n",
    "Όπως θα δουμε παρακάτω δεν χρειαζόμαστε balancing.\n",
    "\n",
    "Στο τέλος της διαδικασίας, οι πίνακες που έχουν περάσει από όλα τα στάδια είναι οι X_train, train_labels, X_test και test_labels.\n"
   ]
  },
  {
   "cell_type": "code",
   "execution_count": 20,
   "metadata": {},
   "outputs": [],
   "source": [
    "warnings.filterwarnings('ignore')\n",
    "from sklearn import preprocessing"
   ]
  },
  {
   "cell_type": "markdown",
   "metadata": {},
   "source": [
    "-  #### Training Set Normalization\n",
    "\n",
    "Μία τεχνική προεπεξεργασίας που μπορούμε να κάνουμε είναι η κανονικοποίηση των χαρακτηριστικών. Χαρακτηριστικά με πολύ μεγάλες διαφορές στις απόλυτες τιμές τους μπορούν να προκαλέσουν προβλήματα στην εκπαίδευση και να δώσουν ταξινομητές με μη βέλτιστη απόδοση. Για το σκοπό αυτό, χρησιμοποιούμε την scale της preprocessing του sklearn καθώς και την min max για να συγκρίνουμε το μοντέλο σε διαφορετικά είδη κανονικοποίησης κατά το optimization.\n",
    "\n",
    "Σημειώνεται πως ό,τι μετασχηματισμό κανονικοποίησης κάνουμε στο train set θα τον κάνουμε και στο test set, χρησιμοποιώντας όμως απαραίτητα το max ή τα $μ$ και $σ$ που έχουμε βρει στο train set, πράγμα που σημαίνει ότι στο test set μετά την κανονικοποίηση δεν θα έχουμε απαραίτητα παντού τιμές μεταξύ 0 και 1 και αντίστοιχα ούτε μέση τιμή 0 και διακύμανση 1."
   ]
  },
  {
   "cell_type": "code",
   "execution_count": 21,
   "metadata": {},
   "outputs": [
    {
     "name": "stdout",
     "output_type": "stream",
     "text": [
      "[[-0.17469149 -0.07419126 -0.15247875 ...  0.29992368  0.38492468\n",
      "   0.32568112]\n",
      " [ 1.0114102   1.19969135  1.22052596 ...  0.0806456   0.32396543\n",
      "   0.41772838]\n",
      " [ 0.19634545  0.01636912  0.03753529 ...  0.70802455  0.67752904\n",
      "   0.60795939]\n",
      " ...\n",
      " [ 0.33624462  0.31219968  0.30110316 ...  0.22073993  0.23252657\n",
      "   0.27045277]\n",
      " [ 0.14768487  0.07070534 -0.0053711  ...  0.30601474  0.26910212\n",
      "   0.22136089]\n",
      " [-2.37050026 -1.95180971 -0.79607471 ...  1.65213849  0.09232031\n",
      "  -1.17775747]]\n",
      "[-3.05621643e-17 -2.79141789e-17 -1.59706616e-17  5.40630342e-18\n",
      " -1.19159341e-17  2.69211844e-17  9.26794873e-18  1.42053381e-17\n",
      "  2.61626469e-17  1.10332723e-17  6.45446429e-17 -2.52661936e-17\n",
      "  2.76383471e-17  2.34457036e-17  1.82048993e-17  1.53914149e-17\n",
      "  9.51619735e-18 -1.07574405e-17 -3.70166285e-17  1.53914149e-17\n",
      "  7.22679335e-18 -4.90980617e-18  1.65499084e-19 -6.67512974e-18\n",
      " -8.27495422e-19  6.84062882e-18  5.80350123e-17  4.42434219e-17\n",
      " -1.37915904e-19 -5.27942079e-17  2.54868590e-17  3.59684677e-17\n",
      "  1.85358975e-17  2.08528846e-17 -5.99934181e-18  2.06046360e-17\n",
      " -2.53765263e-17  3.60236340e-17  1.65499084e-18 -1.03988591e-17\n",
      "  2.20665446e-19  7.44745880e-19  6.39929793e-18 -1.08470858e-17\n",
      "  2.53592868e-18  2.39525446e-16  3.58581350e-18 -8.60595239e-18\n",
      "  2.11562996e-17  3.08931624e-18  3.14586176e-17  5.77522847e-19\n",
      " -2.06873856e-19  1.64257841e-17 -1.55017476e-17  1.32675099e-17\n",
      " -3.03414988e-19 -1.41225885e-17 -2.19562119e-17  2.51006945e-18\n",
      "  2.17907128e-18 -1.37915904e-18 -1.54465812e-18  1.39570895e-17\n",
      " -2.09632174e-18  3.93060325e-18 -5.09702701e-17  4.80774840e-17\n",
      "  3.71131697e-17 -5.65455205e-17  1.96943910e-17 -1.50052503e-17\n",
      " -2.97898352e-17  2.42731990e-18  5.98555022e-17  1.43432540e-18\n",
      "  1.66602412e-17  2.33905373e-17 -4.34159265e-17  1.16607897e-17\n",
      " -1.38605483e-17 -5.26838752e-18 -4.11816888e-17 -1.20262668e-17\n",
      " -2.96795025e-17 -6.47101420e-17 -1.52259158e-17  2.03012210e-17\n",
      " -7.53020834e-18  1.34881754e-17  1.34192174e-17  8.90660906e-17\n",
      " -3.67270052e-17  6.60548221e-16  4.13747711e-18  7.81707342e-17\n",
      " -4.30297619e-18  5.59938569e-18  2.66246652e-17  3.73317664e-16\n",
      " -7.00612791e-18 -1.32399268e-18 -5.51663615e-19 -3.30998169e-18\n",
      " -7.83362333e-18 -1.09229396e-17 -3.68373379e-17 -7.97153923e-18\n",
      " -2.26182082e-18  1.67154075e-17 -5.46146979e-18  3.57202191e-18\n",
      " -6.97509683e-18  4.38572574e-18  2.20665446e-18  3.67821715e-17\n",
      " -2.43249175e-18  7.17162699e-19  3.36514805e-18  2.64798535e-18\n",
      " -1.72670711e-17  2.71970162e-17 -4.22022665e-17 -3.53064713e-17\n",
      "  1.16676855e-17  3.55823031e-18  2.20527530e-17  8.13703832e-18\n",
      " -1.22883070e-17  2.28940400e-17 -3.59133013e-17  2.96519193e-17\n",
      " -1.67154075e-17 -1.23138215e-16 -3.96370307e-17 -6.64065076e-18\n",
      " -2.34189824e-17 -1.60120364e-17 -3.20344165e-17 -2.36387859e-17\n",
      "  1.21159121e-17 -9.72307121e-18  3.97197803e-18  2.95140034e-18\n",
      "  4.08713781e-17 -5.34562043e-17 -5.40630342e-18  2.60385226e-17\n",
      " -6.39929793e-18  5.40630342e-18  3.91681166e-18 -1.17366434e-17\n",
      "  2.55420254e-17 -4.18436852e-17 -2.82727603e-18  7.03371109e-18\n",
      "  2.40318462e-17  6.25724455e-17  8.87488840e-18 -1.00478632e-16\n",
      " -1.29640949e-18  1.74877366e-17 -3.13620765e-16  4.24780983e-18\n",
      "  1.19159341e-17  5.95796704e-18  5.29597070e-18 -7.17162699e-19\n",
      "  8.71628511e-18 -1.89772283e-17 -7.65433265e-18  8.93695056e-18\n",
      "  1.60147947e-16 -2.62040217e-17 -2.81900107e-17  8.02670559e-18\n",
      " -4.01335280e-18 -2.38042850e-17]\n",
      "[1. 1. 1. 1. 1. 1. 1. 1. 1. 1. 1. 1. 1. 1. 1. 1. 1. 1. 1. 1. 1. 1. 1. 1.\n",
      " 1. 1. 1. 1. 1. 1. 1. 1. 1. 1. 1. 1. 1. 1. 1. 1. 1. 1. 1. 1. 1. 1. 1. 1.\n",
      " 1. 1. 1. 1. 1. 1. 1. 1. 1. 1. 1. 1. 1. 1. 1. 1. 1. 1. 1. 1. 1. 1. 1. 1.\n",
      " 1. 1. 1. 1. 1. 1. 1. 1. 1. 1. 1. 1. 1. 1. 1. 1. 1. 1. 1. 1. 1. 1. 1. 1.\n",
      " 1. 1. 1. 1. 1. 1. 1. 1. 1. 1. 1. 1. 1. 1. 1. 1. 1. 1. 1. 1. 1. 1. 1. 1.\n",
      " 1. 1. 1. 1. 1. 1. 1. 1. 1. 1. 1. 1. 1. 1. 1. 1. 1. 1. 1. 1. 1. 1. 1. 1.\n",
      " 1. 1. 1. 1. 1. 1. 1. 1. 1. 1. 1. 1. 1. 1. 1. 1. 1. 1. 1. 1. 1. 1. 1. 1.\n",
      " 1. 1. 1. 1. 1. 1. 1. 1. 1. 1.]\n"
     ]
    }
   ],
   "source": [
    "X_train_init = X_train\n",
    "X_test_init = X_test\n",
    "\n",
    "#Standard score normalization.\n",
    "X_train_scaled = preprocessing.scale(X_train)\n",
    "scaler = preprocessing.StandardScaler().fit(X_train)\n",
    "X_test_scaled = scaler.transform(X_test)\n",
    "\n",
    "print(X_train_scaled)\n",
    "\n",
    "print(X_train_scaled.mean(axis=0))\n",
    "print(X_train_scaled.std(axis=0))"
   ]
  },
  {
   "cell_type": "code",
   "execution_count": 22,
   "metadata": {},
   "outputs": [
    {
     "name": "stdout",
     "output_type": "stream",
     "text": [
      "[[0.49091434 0.47866587 0.4965096  ... 0.4746604  0.47085321 0.49919872]\n",
      " [0.54715893 0.54206731 0.56166376 ... 0.46525601 0.4682035  0.50320513]\n",
      " [0.5085088  0.48317308 0.50552647 ... 0.49216301 0.48357181 0.51148504]\n",
      " ...\n",
      " [0.51514277 0.49789663 0.51803374 ... 0.47126437 0.46422893 0.49679487]\n",
      " [0.50620133 0.4858774  0.5034904  ... 0.47492163 0.46581876 0.49465812]\n",
      " [0.38678973 0.38521635 0.46596859 ... 0.53265413 0.45813461 0.43376068]] \n",
      "\n",
      "[[0.50591289 0.48798077 0.51018034 ... 0.46185998 0.45442501 0.48611111]\n",
      " [0.49956735 0.47596154 0.48923793 ... 0.44827586 0.44144144 0.48130342]\n",
      " [0.5093741  0.50030048 0.51716114 ... 0.4723093  0.45813461 0.49172009]\n",
      " ...\n",
      " [0.47274301 0.45342548 0.47440372 ... 0.40961338 0.40169581 0.44070513]\n",
      " [0.58407845 0.56790865 0.58376963 ... 0.68286311 0.68468468 0.72462607]\n",
      " [0.33890972 0.3500601  0.42001163 ... 0.35083595 0.37731849 0.42735043]]\n"
     ]
    }
   ],
   "source": [
    "min_max_scaler = preprocessing.MinMaxScaler()\n",
    "X_train_minmax = min_max_scaler.fit_transform(X_train)\n",
    "print(X_train_minmax, \"\\n\")\n",
    "X_test_minmax = min_max_scaler.transform(X_test)\n",
    "print(X_test_minmax)"
   ]
  },
  {
   "cell_type": "markdown",
   "metadata": {},
   "source": [
    "Θα δοκιμάσουμε την επίδοση και με τους δύο τρόπους κανονικοποίησης. Για το ερώτημα Γ, θα ασχοληθούμε μόνο με τη scaled case."
   ]
  },
  {
   "cell_type": "code",
   "execution_count": 23,
   "metadata": {},
   "outputs": [],
   "source": [
    "X_train = X_train_scaled\n",
    "X_test = X_test_scaled"
   ]
  },
  {
   "cell_type": "markdown",
   "metadata": {},
   "source": [
    "<div class=\"alert alert-block alert-info\">\n",
    "<b>Question B7 : </b>Ποιος είναι ο αριθμός των κλάσεων και τα ποσοστά δειγμάτων τους επί του συνόλου; Αν θεωρήσουμε ότι ένα dataset είναι μη ισορροπημένο αν μια οποιαδήποτε κλάση είναι 1.5 φορά πιο συχνή από κάποια άλλη (60%-40% σε binary datasets) εκτιμήστε την ισορροπία του dataset.\n",
    "</div> "
   ]
  },
  {
   "cell_type": "markdown",
   "metadata": {},
   "source": [
    "-  #### Εξισορρόπηση μη ισορροπημένων datasets\n",
    "\n",
    "Με τον ορό μη ισορροπημένο dataset εννούμε ένα dataset στο οποίο τα πλήθη των δειγμάτων της κάθε κλάσης διαφέρουν σημαντικά μεταξύ τους. Σύμφωνα με την εκφώνηση, όταν ο λόγος μεταξύ του αριθμού των δειγμάτων δύο κλάσεων αρχίζει να είναι μεγαλύτερος από 2:3, μπορούμε να αρχίζουμε να θεωρούμε το dataset μη ισορροπημένο (imbalanced). Για να δούμε αν το dataset μας είναι ισορροπημένο ή μη θα δούμε πόσα δείγματα έχουμε ανά κατηγορία στο training set."
   ]
  },
  {
   "cell_type": "markdown",
   "metadata": {},
   "source": [
    "Αφού κάναμε normalization, ας δούμε αν χρειάζεται να κάνουμε balancing τα δεδομένα μας. "
   ]
  },
  {
   "cell_type": "code",
   "execution_count": 24,
   "metadata": {},
   "outputs": [
    {
     "name": "stdout",
     "output_type": "stream",
     "text": [
      "+---------+---------+---------+---------+---------+----------------------------+\n",
      "| Class 1 | Class 2 | Class 3 | Class 4 | Class 5 |        Training Set        |\n",
      "+---------+---------+---------+---------+---------+----------------------------+\n",
      "|  1601   |  1595   |  1606   |  1633   |  1615   |            8050            |\n",
      "+---------+---------+---------+---------+---------+----------------------------+\n",
      "| 19.888  | 19.814  |  19.95  | 20.286  | 20.062  |            100%            |\n",
      "+---------+---------+---------+---------+---------+----------------------------+\n"
     ]
    }
   ],
   "source": [
    "#Dataset Balancing\n",
    "table = BeautifulTable()\n",
    "table.column_headers = [\"Class 1\", \"Class 2\", \"Class 3\", \"Class 4\", \"Class 5\", \"Training Set\"]\n",
    "table.append_row([y_train.sum(axis=0)[0], y_train.sum(axis=0)[1], y_train.sum(axis=0)[2], y_train.sum(axis=0)[3], y_train.sum(axis=0)[4], sum(y_train.sum(axis=0))  ])\n",
    "table.append_row([y_train.sum(axis=0)[0]/sum(y_train.sum(axis=0)) * 100 , y_train.sum(axis=0)[1]* 100/sum(y_train.sum(axis=0)), y_train.sum(axis=0)[2]* 100/sum(y_train.sum(axis=0)), y_train.sum(axis=0)[3]* 100/sum(y_train.sum(axis=0)), y_train.sum(axis=0)[4]* 100/sum(y_train.sum(axis=0)), '100%'  ])\n",
    "\n",
    "print(table)\n",
    "\n",
    "#No need for balancing"
   ]
  },
  {
   "cell_type": "markdown",
   "metadata": {},
   "source": [
    "Συνεπώς, δεν χρειάζεται εξισορρόπιση."
   ]
  },
  {
   "cell_type": "markdown",
   "metadata": {},
   "source": [
    "### _Section 3 : Baseline classification_\n",
    "\n",
    "<div class=\"alert alert-block alert-info\">\n",
    "<b>Question Γ1 : </b>  Εκπαιδεύστε στο train τους classifiers με default τιμές (απλή αρχικοποίηση). Κάντε εκτίμηση στο test set (μαζί με τους dummy) και τυπώστε για κάθε estimator: confusion matrix, f1-micro average και f1-macro average. \n",
    "</div>\n",
    "\n",
    "\n",
    "Πριν περάσουμε στο στάδιο του optimization, δοκιμάζουμε με τις default τιμές διάφορους classifiers που ακολουθούν. Υπενθυμίζεται πως το μοντέλο για το στάδιο αυτό έχει περάσει από το στάδιο του scaled normalization.\n",
    "\n",
    "Θα δοκιμάσουμε πρώτα κάποιες πολύ απλές τακτικές ταξινόμησης. Η κλάση DummyClassifier δέχεται μια παράμετρο που καθορίζει την τακτική της ταξινόμησης ως εξής:\n",
    "* “uniform”: προβλέπει τυχαία και ομοιόμορφα.\n",
    "* “constant”: προβλέπει πάντα μία κατηγορία που τη διαλέγει ο χρήστης.\n",
    "* “most_frequent”: προβλέπει πάντα την πιο συχνή κατηγορία στο training set.\n",
    "* “stratified”: κάνει προβλέψεις διατηρώντας την κατανομή των κλάσεων στο training set.\n",
    "\n",
    "Εμείς θα χρησιμοποιήσουμε μόνο τις uniform, most_frequent και stratified.\n",
    "Ακολούθως, θα δοκιμάσουμε τους Gaussian Naive Bayes, kNN και MLP Classifier πάνω στο μοντέλο μας για να πάρουμε κάποια πρωταρχικά συμπεράσματα. \n",
    "\n",
    "Στην συνέχεια (Ερώτημα Δ), επιχειρούμε να βελτιστοποιήσουμε το μοντέλο μας."
   ]
  },
  {
   "cell_type": "code",
   "execution_count": 25,
   "metadata": {},
   "outputs": [],
   "source": [
    "# We need multiclass everywhere so dum_y_{train, test} everywhere below.\n",
    "dum_y_train = np.asarray(mlb.inverse_transform(y_train)).flatten()\n",
    "dum_y_test = np.asarray(mlb.inverse_transform(y_test)).flatten()"
   ]
  },
  {
   "cell_type": "code",
   "execution_count": 27,
   "metadata": {},
   "outputs": [],
   "source": [
    "from sklearn.dummy import DummyClassifier\n",
    "from sklearn.naive_bayes import GaussianNB\n",
    "from sklearn import neighbors\n",
    "from sklearn.neural_network import MLPClassifier\n",
    "warnings.filterwarnings('ignore')"
   ]
  },
  {
   "cell_type": "code",
   "execution_count": 29,
   "metadata": {},
   "outputs": [
    {
     "data": {
      "text/plain": [
       "MLPClassifier(activation='relu', alpha=0.0001, batch_size='auto', beta_1=0.9,\n",
       "       beta_2=0.999, early_stopping=False, epsilon=1e-08,\n",
       "       hidden_layer_sizes=(100,), learning_rate='constant',\n",
       "       learning_rate_init=0.001, max_iter=200, momentum=0.9,\n",
       "       n_iter_no_change=10, nesterovs_momentum=True, power_t=0.5,\n",
       "       random_state=None, shuffle=True, solver='adam', tol=0.0001,\n",
       "       validation_fraction=0.1, verbose=False, warm_start=False)"
      ]
     },
     "execution_count": 29,
     "metadata": {},
     "output_type": "execute_result"
    }
   ],
   "source": [
    "warnings.filterwarnings('ignore')\n",
    "#constructors\n",
    "dc_uniform = DummyClassifier(strategy=\"uniform\")\n",
    "dc_most_frequent = DummyClassifier(strategy=\"most_frequent\")\n",
    "dc_stratified = DummyClassifier(strategy=\"stratified\")\n",
    "gnb = GaussianNB()\n",
    "kNN = neighbors.KNeighborsClassifier()\n",
    "MLP = MLPClassifier()\n",
    "\n",
    "#fit\n",
    "dc_uniform.fit(X_train, dum_y_train)\n",
    "dc_most_frequent.fit(X_train, dum_y_train) \n",
    "dc_stratified.fit(X_train, dum_y_train)\n",
    "gnb.fit(X_train, dum_y_train) #kai to gnb 8elei 1,2,3,4,5\n",
    "kNN.fit(X_train, dum_y_train)\n",
    "MLP.fit(X_train, dum_y_train)"
   ]
  },
  {
   "cell_type": "code",
   "execution_count": 30,
   "metadata": {},
   "outputs": [],
   "source": [
    "#predict\n",
    "Baseline_predictions = [dc_uniform.predict(X_test), dc_most_frequent.predict(X_test), dc_stratified.predict(X_test), gnb.predict(X_test), kNN.predict(X_test), MLP.predict(X_test)]\n",
    "test_labels = [dum_y_test, dum_y_test, dum_y_test, dum_y_test, dum_y_test, dum_y_test] \n",
    "objs = ['DC-Uni', 'DC-MF', 'DC-Str', 'GNB', 'kNN', 'MLP']"
   ]
  },
  {
   "cell_type": "markdown",
   "metadata": {},
   "source": [
    "-  #### Confusion matrix, f1-micro average και f1-macro average.\n",
    "\n",
    "Πριν υπολογίσουμε τις μετρικές επίδοσης, ας δούμε ξανά τους ορισμούς ώστε να μπορούμε μετά να σχολιάσουμε τα αποτελέσματα.\n",
    "\n",
    "-  O πίνακας σύχγυσης $C$  είναι τέτοιος ώστε το $C_{i, j}$ είναι ίσο με τα δείγματα που ενώ ανήκουν στην κατηγορία $i$ ταξινομήθηκαν στην κατηγορία  $j$. Τα στοιχεία της διαγωνίου είναι αληθινά θετικά δείγματα (true positive) της κάθε κλάσης. Για κάθε κλάση $i$ τα στοιχεία της γραμμής $i$ εκτός της διαγωνίου είναι λάνθασμένα αρνητικά δείγματα (false negative) της κλάσης και τα στοιχεία της κολώνας $i$ εκτός της διαγωνίου είναι λανθασμένα θετικά δείγματα (false positive) της κλάσης. \n",
    " -  Σε περίπτωση δυαδικού ταξινομητή $C_{0,0}$ είναι τα αληθινά αρνητικά δείγματα (true negative, η κλάση 0 θεωρείται η αρνητική), $C_{1,0}$ είναι τα λανθασμένα αρνητικά δείγματα, $C_{1,1}$ τα αληθινά θετικά δείγματα και $C_{0,1}$ τα λανθασμένα θετικά.\n",
    "\n",
    "\n",
    "-  Ακρίβεια -Precision- ($P$) είναι ο λόγος των true positives ($T_p$) ως προς τον αριθμό των true positives συν τον αριθμό των false positives ($F_p$).\n",
    "$$P = \\frac{T_p}{T_p+F_p}$$\n",
    "-  Ανάκληση -Recall- ($R$) είναι ο λόγος των true positives ($T_p$) ως προς τον αριθμό των true positives συν τον αριθμό των false negatives ($F_n$).\n",
    "$$R = \\frac{T_p}{T_p + F_n}$$\n",
    "- ($F_1$) score είναι ο αρμονικός μέσος της ακρίβειας και της ανάκλησης.\n",
    "$$F1 = 2\\frac{P \\times R}{P+R}$$\n",
    "\n",
    "    - Ιδανικά θέλουμε και υψηλή ακρίβεια και υψηλή ανάκληση, ωστόσο μεταξύ της ακρίβειας και της ανάκλησης υπάρχει γενικά trade-off. "
   ]
  },
  {
   "cell_type": "code",
   "execution_count": 31,
   "metadata": {},
   "outputs": [],
   "source": [
    "# Confusion matrix, f1-micro, f1-macro.\n",
    "from sklearn.metrics import confusion_matrix\n",
    "from sklearn.metrics import precision_recall_fscore_support\n",
    "from sklearn.metrics import classification_report"
   ]
  },
  {
   "cell_type": "code",
   "execution_count": 32,
   "metadata": {},
   "outputs": [],
   "source": [
    "def conf_f1_pred(pred_list, test_labels_list, names):\n",
    "    for i, clf in enumerate(names):\n",
    "        pred = pred_list[i]\n",
    "        test_labels = test_labels_list[i]\n",
    "        ##########################\n",
    "        print('For the ' + clf + ' : ')\n",
    "        print('------------------')\n",
    "        # Compute confusion matrix\n",
    "        cnf_matrix = confusion_matrix(test_labels, pred)\n",
    "        # τυπώνουμε τα labels\n",
    "        labels_name = ['1', '2', '3', '4', '5']\n",
    "        print('Labels values : ')\n",
    "        print(labels_name)\n",
    "        print('------------------')\n",
    "        # τυπώνουμε το confusion matrix\n",
    "        print('Confusion matrix [' + clf + '] : ')\n",
    "        plot_confusion_matrix(cnf_matrix, labels_name)\n",
    "        print('------------------')\n",
    "        # εκτυπώνουμε τa precision, recall και F1 λαμβάνοντας υπόψη συνολικά (αθροίζοντας εκτός κλάσεων) τα δείγματα (average = micro).\n",
    "        print('Precision - Recall - f1[micro] - Support :')\n",
    "        print(precision_recall_fscore_support(test_labels, pred, average='micro'))\n",
    "        print('------------------')\n",
    "        # εκτυπώνουμε το μέσο όρο των precision, recall και F1 θεωρόντας ότι οι κλάσεις έχουν το ίδιο βάρος (average = macro)\n",
    "        print('Precision - Recall - f1[macro] - Support :')\n",
    "        print(precision_recall_fscore_support(test_labels, pred, average='macro'))\n",
    "        print('------------------')\n",
    "        # εκτυπώνουμε τa precision, recall και F1 λαμβάνοντας. Με average = weighted κάθε κλάση μετρά στο μέσο όρο ανάλογα με το support της.\n",
    "        print('Precision - Recall - f1[weighted] - Support :')\n",
    "        print(precision_recall_fscore_support(test_labels, pred, average='weighted'))\n",
    "        print('------------------')\n",
    "        # η classification_report τυπώνει πιο ωραία οπτικά σε string τα αποτελέσματα\n",
    "        # πρώτα για κάθε κλάση και μετά με μέσους όρους\n",
    "        print('Classification Report  :')\n",
    "        print(classification_report(test_labels, pred, target_names=labels_name))"
   ]
  },
  {
   "cell_type": "code",
   "execution_count": 421,
   "metadata": {},
   "outputs": [
    {
     "name": "stdout",
     "output_type": "stream",
     "text": [
      "For the DC-Uni : \n",
      "------------------\n",
      "Labels values : \n",
      "['1', '2', '3', '4', '5']\n",
      "------------------\n",
      "Confusion matrix [DC-Uni] : \n",
      "Confusion matrix, without normalization\n",
      "[[132 153 134 132 148]\n",
      " [142 135 156 150 122]\n",
      " [149 128 143 132 142]\n",
      " [101 157 124 155 130]\n",
      " [141 140 133 142 129]]\n"
     ]
    },
    {
     "data": {
      "image/png": "[encoded data removed]",
      "text/plain": [
       "<Figure size 432x288 with 2 Axes>"
      ]
     },
     "metadata": {},
     "output_type": "display_data"
    },
    {
     "name": "stdout",
     "output_type": "stream",
     "text": [
      "------------------\n",
      "Precision - Recall - f1[micro] - Support :\n",
      "(0.20115942028985506, 0.20115942028985506, 0.20115942028985506, None)\n",
      "------------------\n",
      "Precision - Recall - f1[macro] - Support :\n",
      "(0.20106732327901938, 0.20141748251937536, 0.20116680299888584, None)\n",
      "------------------\n",
      "Precision - Recall - f1[weighted] - Support :\n",
      "(0.2009166703265913, 0.20115942028985506, 0.2009636631700188, None)\n",
      "------------------\n",
      "Classification Report  :\n",
      "              precision    recall  f1-score   support\n",
      "\n",
      "           1       0.20      0.19      0.19       699\n",
      "           2       0.19      0.19      0.19       705\n",
      "           3       0.21      0.21      0.21       694\n",
      "           4       0.22      0.23      0.22       667\n",
      "           5       0.19      0.19      0.19       685\n",
      "\n",
      "   micro avg       0.20      0.20      0.20      3450\n",
      "   macro avg       0.20      0.20      0.20      3450\n",
      "weighted avg       0.20      0.20      0.20      3450\n",
      "\n",
      "For the DC-MF : \n",
      "------------------\n",
      "Labels values : \n",
      "['1', '2', '3', '4', '5']\n",
      "------------------\n",
      "Confusion matrix [DC-MF] : \n",
      "Confusion matrix, without normalization\n",
      "[[  0   0   0 699   0]\n",
      " [  0   0   0 705   0]\n",
      " [  0   0   0 694   0]\n",
      " [  0   0   0 667   0]\n",
      " [  0   0   0 685   0]]\n"
     ]
    },
    {
     "data": {
      "image/png": "[encoded data removed]",
      "text/plain": [
       "<Figure size 432x288 with 2 Axes>"
      ]
     },
     "metadata": {},
     "output_type": "display_data"
    },
    {
     "name": "stdout",
     "output_type": "stream",
     "text": [
      "------------------\n",
      "Precision - Recall - f1[micro] - Support :\n",
      "(0.19333333333333333, 0.19333333333333333, 0.19333333333333333, None)\n",
      "------------------\n",
      "Precision - Recall - f1[macro] - Support :\n",
      "(0.03866666666666667, 0.2, 0.06480446927374302, None)\n",
      "------------------\n",
      "Precision - Recall - f1[weighted] - Support :\n",
      "(0.037377777777777774, 0.19333333333333333, 0.06264432029795158, None)\n",
      "------------------\n",
      "Classification Report  :\n",
      "              precision    recall  f1-score   support\n",
      "\n",
      "           1       0.00      0.00      0.00       699\n",
      "           2       0.00      0.00      0.00       705\n",
      "           3       0.00      0.00      0.00       694\n",
      "           4       0.19      1.00      0.32       667\n",
      "           5       0.00      0.00      0.00       685\n",
      "\n",
      "   micro avg       0.19      0.19      0.19      3450\n",
      "   macro avg       0.04      0.20      0.06      3450\n",
      "weighted avg       0.04      0.19      0.06      3450\n",
      "\n",
      "For the DC-Str : \n",
      "------------------\n",
      "Labels values : \n",
      "['1', '2', '3', '4', '5']\n",
      "------------------\n",
      "Confusion matrix [DC-Str] : \n",
      "Confusion matrix, without normalization\n",
      "[[135 160 128 134 142]\n",
      " [134 128 146 133 164]\n",
      " [130 132 151 142 139]\n",
      " [150 123 120 134 140]\n",
      " [143 132 140 128 142]]\n"
     ]
    },
    {
     "name": "stderr",
     "output_type": "stream",
     "text": [
      "/home/tyler/anaconda3/lib/python3.6/site-packages/sklearn/metrics/classification.py:1143: UndefinedMetricWarning: Precision and F-score are ill-defined and being set to 0.0 in labels with no predicted samples.\n",
      "  'precision', 'predicted', average, warn_for)\n"
     ]
    },
    {
     "data": {
      "image/png": "[encoded data removed]",
      "text/plain": [
       "<Figure size 432x288 with 2 Axes>"
      ]
     },
     "metadata": {},
     "output_type": "display_data"
    },
    {
     "name": "stdout",
     "output_type": "stream",
     "text": [
      "------------------\n",
      "Precision - Recall - f1[micro] - Support :\n",
      "(0.2, 0.2, 0.20000000000000004, None)\n",
      "------------------\n",
      "Precision - Recall - f1[macro] - Support :\n",
      "(0.20003589493210167, 0.200094280383317, 0.2000087159623707, None)\n",
      "------------------\n",
      "Precision - Recall - f1[weighted] - Support :\n",
      "(0.20001045024359104, 0.2, 0.19994871850803178, None)\n",
      "------------------\n",
      "Classification Report  :\n",
      "              precision    recall  f1-score   support\n",
      "\n",
      "           1       0.20      0.19      0.19       699\n",
      "           2       0.19      0.18      0.19       705\n",
      "           3       0.22      0.22      0.22       694\n",
      "           4       0.20      0.20      0.20       667\n",
      "           5       0.20      0.21      0.20       685\n",
      "\n",
      "   micro avg       0.20      0.20      0.20      3450\n",
      "   macro avg       0.20      0.20      0.20      3450\n",
      "weighted avg       0.20      0.20      0.20      3450\n",
      "\n",
      "For the GNB : \n",
      "------------------\n",
      "Labels values : \n",
      "['1', '2', '3', '4', '5']\n",
      "------------------\n",
      "Confusion matrix [GNB] : \n",
      "Confusion matrix, without normalization\n",
      "[[578 119   1   1   0]\n",
      " [ 41 114 100  80 370]\n",
      " [  3  78 117 123 373]\n",
      " [  0 163 120 196 188]\n",
      " [  0  23  87  60 515]]\n"
     ]
    },
    {
     "data": {
      "image/png": "[encoded data removed]",
      "text/plain": [
       "<Figure size 432x288 with 2 Axes>"
      ]
     },
     "metadata": {},
     "output_type": "display_data"
    },
    {
     "name": "stdout",
     "output_type": "stream",
     "text": [
      "------------------\n",
      "Precision - Recall - f1[micro] - Support :\n",
      "(0.4405797101449275, 0.4405797101449275, 0.4405797101449275, None)\n",
      "------------------\n",
      "Precision - Recall - f1[macro] - Support :\n",
      "(0.44323453839433197, 0.44057269599753673, 0.4210122016724589, None)\n",
      "------------------\n",
      "Precision - Recall - f1[weighted] - Support :\n",
      "(0.443618419505848, 0.4405797101449275, 0.4213428871464058, None)\n",
      "------------------\n",
      "Classification Report  :\n",
      "              precision    recall  f1-score   support\n",
      "\n",
      "           1       0.93      0.83      0.88       699\n",
      "           2       0.23      0.16      0.19       705\n",
      "           3       0.28      0.17      0.21       694\n",
      "           4       0.43      0.29      0.35       667\n",
      "           5       0.36      0.75      0.48       685\n",
      "\n",
      "   micro avg       0.44      0.44      0.44      3450\n",
      "   macro avg       0.44      0.44      0.42      3450\n",
      "weighted avg       0.44      0.44      0.42      3450\n",
      "\n",
      "For the kNN : \n",
      "------------------\n",
      "Labels values : \n",
      "['1', '2', '3', '4', '5']\n",
      "------------------\n",
      "Confusion matrix [kNN] : \n",
      "Confusion matrix, without normalization\n",
      "[[484 103  74  30   8]\n",
      " [  4 431 260   1   9]\n",
      " [  0 240 437   4  13]\n",
      " [  0 152 220 196  99]\n",
      " [  0 269 359   3  54]]\n"
     ]
    },
    {
     "data": {
      "image/png": "[encoded data removed]",
      "text/plain": [
       "<Figure size 432x288 with 2 Axes>"
      ]
     },
     "metadata": {},
     "output_type": "display_data"
    },
    {
     "name": "stdout",
     "output_type": "stream",
     "text": [
      "------------------\n",
      "Precision - Recall - f1[micro] - Support :\n",
      "(0.4643478260869565, 0.4643478260869565, 0.4643478260869565, None)\n",
      "------------------\n",
      "Precision - Recall - f1[macro] - Support :\n",
      "(0.5617730486558252, 0.4612266889456563, 0.4512549068809039, None)\n",
      "------------------\n",
      "Precision - Recall - f1[weighted] - Support :\n",
      "(0.5602920976595913, 0.4643478260869565, 0.45276979594406813, None)\n",
      "------------------\n",
      "Classification Report  :\n",
      "              precision    recall  f1-score   support\n",
      "\n",
      "           1       0.99      0.69      0.82       699\n",
      "           2       0.36      0.61      0.45       705\n",
      "           3       0.32      0.63      0.43       694\n",
      "           4       0.84      0.29      0.44       667\n",
      "           5       0.30      0.08      0.12       685\n",
      "\n",
      "   micro avg       0.46      0.46      0.46      3450\n",
      "   macro avg       0.56      0.46      0.45      3450\n",
      "weighted avg       0.56      0.46      0.45      3450\n",
      "\n",
      "For the MLP : \n",
      "------------------\n",
      "Labels values : \n",
      "['1', '2', '3', '4', '5']\n",
      "------------------\n",
      "Confusion matrix [MLP] : \n",
      "Confusion matrix, without normalization\n",
      "[[622  12  14  46   5]\n",
      " [ 26 365 241  17  56]\n",
      " [ 11 215 404  15  49]\n",
      " [ 12  16  12 497 130]\n",
      " [  2  53  71 148 411]]\n"
     ]
    },
    {
     "data": {
      "image/png": "[encoded data removed]",
      "text/plain": [
       "<Figure size 432x288 with 2 Axes>"
      ]
     },
     "metadata": {},
     "output_type": "display_data"
    },
    {
     "name": "stdout",
     "output_type": "stream",
     "text": [
      "------------------\n",
      "Precision - Recall - f1[micro] - Support :\n",
      "(0.6663768115942029, 0.6663768115942029, 0.6663768115942029, None)\n",
      "------------------\n",
      "Precision - Recall - f1[macro] - Support :\n",
      "(0.6679275821064599, 0.6669666259818323, 0.6668328073262958, None)\n",
      "------------------\n",
      "Precision - Recall - f1[weighted] - Support :\n",
      "(0.6678729698390371, 0.6663768115942029, 0.6665149297409498, None)\n",
      "------------------\n",
      "Classification Report  :\n",
      "              precision    recall  f1-score   support\n",
      "\n",
      "           1       0.92      0.89      0.91       699\n",
      "           2       0.55      0.52      0.53       705\n",
      "           3       0.54      0.58      0.56       694\n",
      "           4       0.69      0.75      0.72       667\n",
      "           5       0.63      0.60      0.62       685\n",
      "\n",
      "   micro avg       0.67      0.67      0.67      3450\n",
      "   macro avg       0.67      0.67      0.67      3450\n",
      "weighted avg       0.67      0.67      0.67      3450\n",
      "\n"
     ]
    }
   ],
   "source": [
    "test_labels = [dum_y_test, dum_y_test, dum_y_test, dum_y_test, dum_y_test, dum_y_test]\n",
    "objs = ['DC-Uni', 'DC-MF', 'DC-Str', 'GNB', 'kNN', 'MLP']\n",
    "\n",
    "# Baseline preds :\n",
    "# For i=0,1,2,3 : Baseline_preds[i] have 3450 rows and 1 column with {1,2,3,4,5}\n",
    "# For i=4,5 : they are 3450 rows and 5 cols with '1's and '0's\n",
    "# for i in range(3000):\n",
    "#     print(Baseline_predictions[4][i])\n",
    "\n",
    "conf_f1_pred(Baseline_predictions, test_labels, objs)"
   ]
  },
  {
   "cell_type": "markdown",
   "metadata": {},
   "source": [
    "<div class=\"alert alert-block alert-info\">\n",
    "<b>Question Γ2 : </b> Για κάθε averaged metric, εκτυπώστε bar plot συγκρισης με τις τιμές του συγκεκριμένου f1 για όλους τους classifiers.\n",
    "</div>\n",
    "\n"
   ]
  },
  {
   "cell_type": "markdown",
   "metadata": {},
   "source": [
    "-  Για κάθε average metric (micro, macro, weighted), κάνουμε ένα bar plot για την f1 για όλους του classifiers."
   ]
  },
  {
   "cell_type": "code",
   "execution_count": 33,
   "metadata": {},
   "outputs": [],
   "source": [
    "#plot\n",
    "from sklearn.metrics import precision_recall_fscore_support"
   ]
  },
  {
   "cell_type": "code",
   "execution_count": 34,
   "metadata": {},
   "outputs": [],
   "source": [
    "def plot_f1_scores(Baseline_predictions, test_labels, objects):\n",
    "    n_groups = len(Baseline_predictions)\n",
    "    colors = ['b', 'g', 'r']\n",
    "    avg_metric = ['micro', 'macro', 'weighted']\n",
    "    # create plot\n",
    "    plt.figure(figsize = (13,5))\n",
    "    index = np.arange(n_groups)\n",
    "    bar_width = 0.15\n",
    "    opacity = 0.8\n",
    "\n",
    "    for i, metric in enumerate(avg_metric):\n",
    "        performance = []\n",
    "        for j, pred in enumerate(Baseline_predictions): #from 6 classifiers\n",
    "            res_list = precision_recall_fscore_support(test_labels[j], pred, average=metric)\n",
    "            f1_score = res_list[2]\n",
    "            performance.append(f1_score)\n",
    "        rects = plt.bar(index + i*bar_width, performance, bar_width,\n",
    "                     alpha=opacity,\n",
    "                     color=colors[i],\n",
    "                     label=metric)\n",
    "    plt.legend(loc='best', bbox_to_anchor=(1.0, 0.55),\n",
    "          ncol=3, fancybox=True, shadow=True)\n",
    "    \n",
    "    plt.xlabel('Classifier')\n",
    "    plt.ylabel('f1_score')\n",
    "    plt.title('f1_score metric for the 6 classifiers.')\n",
    "    plt.xticks(index + bar_width, objects)\n",
    "\n",
    "    plt.tight_layout()\n",
    "    plt.show()"
   ]
  },
  {
   "cell_type": "code",
   "execution_count": 424,
   "metadata": {},
   "outputs": [
    {
     "name": "stderr",
     "output_type": "stream",
     "text": [
      "/home/tyler/anaconda3/lib/python3.6/site-packages/sklearn/metrics/classification.py:1143: UndefinedMetricWarning: Precision and F-score are ill-defined and being set to 0.0 in labels with no predicted samples.\n",
      "  'precision', 'predicted', average, warn_for)\n"
     ]
    },
    {
     "data": {
      "image/png": "[encoded data removed]",
      "text/plain": [
       "<Figure size 936x360 with 1 Axes>"
      ]
     },
     "metadata": {},
     "output_type": "display_data"
    }
   ],
   "source": [
    "objects = ('DC-Un', 'DC-MF', 'DC-Str', 'GNB', 'kNN', 'MLP')\n",
    "test_labels = [dum_y_test, dum_y_test, dum_y_test, dum_y_test, dum_y_test, dum_y_test]\n",
    "plot_f1_scores(Baseline_predictions, test_labels, objects)"
   ]
  },
  {
   "cell_type": "markdown",
   "metadata": {},
   "source": [
    "<div class=\"alert alert-block alert-info\">\n",
    "<b>Question Γ3 : </b>Σχολιάστε τα αποτελέσματα των plots και των τιμών precision, recall, f1 των πινάκων σύγχυσης. \n",
    "</div>\n",
    "\n",
    "\n",
    "\n",
    "Όπως είναι αναμενόμενο, τα Dummy Classifiers έχουν απόδοση κοντά στο 20% μιας και ο αριθμός των κλάσεων είναι 5. Από κει και πέρα για τους ταξινομητές GNB και kNN παρατηρούμε μια μέτρια απόδοση, λίγο κάτω από το 50%, ενώ ο MLP δείχνει να είναι το πιο κατάλληλο για το συγκεκριμένο Dataset. Φυσικά υπάρχει περιθώριο βελτίωσης αυτών των score με την βελτιστοποίηση των υπερπαραμέτρων των ταξινομητών, όπως θα φανεί και στη συνέχεια.\n",
    "\n",
    "Να σημειωθεί ότι παρατηρώντας τα Confusion Matrix (εκτός αυτών των Dummy), βλέπουμε μεγάλη επιτυχία στην ταξινόμηση της 1ης κλάσης, πράγμα που θα αναλυθεί στα τελικά συμπεράσματα."
   ]
  },
  {
   "cell_type": "markdown",
   "metadata": {},
   "source": [
    "### _Section 4 : Classifiers - Training & Optimization._\n",
    "\n",
    "<div class=\"alert alert-block alert-info\">\n",
    "<b>Question Δ1 : </b> Για κάθε ταξινομητή βελτιστοποιήστε την απόδοσή του στο training set μέσω της διαδικασίας προεπεξεργασίας και εύρεσης βέλτιστων υπερπαραμέτρων (δεν έχουν όλοι οι ταξινομητές υπερπαραμέτρους). Κάντε εκτίμηση στο test set (μαζί με τους dummy) και τυπώστε για κάθε estimator: confusion matrix, f1-micro average και f1-macro average. \n",
    "</div>\n",
    "\n",
    "Η διαδικασία βελτιστοποίσης είναι η ακόλουθη :\n",
    "\n",
    "-   Για κάθε ταξινομητή, έστω clf, ορίζουμε τις υποψήφιες τιμές υπερπαραμέτρων που θα μας δώσουν την βέλτιστη επίδοση. \n",
    "-   Ορίζουμε, για τον clf, ένα pipeline, το οποίο, αρχικά, περιέχει το στάδιο της dimensionality reduction με PCA και, στη συνέχεια, το στάδιο του fit του clf. Επίλέξαμε να μην συμπεριλάβουμε στο pipeline το στάδιο της κανονικοποίησης γιατί θα επαναλαμβανόταν άσκοπα πάνω στα ίδια  δεδομένα.\n",
    "-   Το στάδιο του fitting για τον ταξινομητή clf υλοποιείται με μία grid search πάνω στον χώρο που ορίζουν οι υπερπαράμετροι. Αν αυτές είναι οι $h_{1} \\in \\mathcal{H}_{1}, h_{2} \\in \\mathcal{H}_{2},..., h_{k} \\in \\mathcal{H}_{k}, $ τότε η αναζήτηση λαμβάνει χώρα στον $\\mathcal{H}_{1} \\times \\mathcal{H}_{2} \\times ... \\times \\mathcal{H}_{k}.$\n",
    "Επίσης, σε κάθε βήμα, το fitting γίνεται με ένα 5-fold cross validation. Η ιδέα του CV υπενθιμίζεται παρακάτω.\n",
    "-   'Ετσι, προκύπτει η βέλτιστη λύση $(h^{*}_{1}, h^{*}_{2}, ..., h^{*}_{k}).$\n",
    "\n",
    "***\n",
    "\n",
    "Επιλογή για βελτιστοποίηση του $\\vec{h} = (h_{1}, h_{2}, ..., h_{k})$ : Cross Validation.\n",
    "\n",
    "Για να βρούμε τη βέλτιστη τιμή του $\\vec{h}$, ώστε να μπορούμε να γενικεύσουμε το μοντέλο μας, \n",
    "πραγματοποιούμε CV πάνω στο αντίστοιχο clf.\n",
    "\n",
    "Στο Cross Validation, αρχικά, χωρίζουμε το training set σε έναν αριθμό folds. Επιλέγουμε πλήθος folds k = 10, όπως φαίνεται και στην εικόνα. \n",
    "\n",
    "![Cross validation](https://sebastianraschka.com/images/faq/evaluate-a-model/k-fold.png \"Cross Validation\")\n",
    "\n",
    "Στη συνέχεια, για κάθε k-fold, θεωρούμε ότι τα (k-1) folds είναι training set και ότι το fold που αφήσαμε έξω είναι το test set. Υπολογίζουμε τη μετρική σφάλματός μας στο test set που ορίζει το fold. Επαναλαμβάνουμε τη διαδικασία για τα k folds για κάθε τιμή των υπερπαραμέτρων και υπολογίζουμε τη μέση τιμή της μετρικής του σφάλματος. Με αυτό τον τρόπο, αφενός είμαστε αμερόληπτοι στην αξιολόγηση αφήνοντας τελείως έξω το test set και αφετέρου χρησιμοποιούμε αποτελεσματικά τα δεδομένα εκπαίδευσης: τα χρησιμοποιούμε όλα και παίρνοντας τη μέση τιμή εξαλείφουμε πιθανές ανωμαλίες στα δεδομένα."
   ]
  },
  {
   "cell_type": "markdown",
   "metadata": {},
   "source": [
    "##### Section 4.1 : Dummy Classifier"
   ]
  },
  {
   "cell_type": "code",
   "execution_count": 425,
   "metadata": {},
   "outputs": [],
   "source": [
    "from sklearn.metrics import classification_report\n",
    "from sklearn.metrics import confusion_matrix\n",
    "\n",
    "#Some initializations.\n",
    "labels_name = ['1', '2', '3', '4', '5']\n",
    "predictions_macro = []\n",
    "predictions_micro = []\n",
    "durations = []\n",
    "\n",
    "#Constructors.\n",
    "dc_uniform = DummyClassifier(strategy=\"uniform\")\n",
    "dc_most_frequent = DummyClassifier(strategy=\"most_frequent\")\n",
    "dc_stratified = DummyClassifier(strategy=\"stratified\")\n"
   ]
  },
  {
   "cell_type": "code",
   "execution_count": 426,
   "metadata": {},
   "outputs": [
    {
     "name": "stdout",
     "output_type": "stream",
     "text": [
      "Classification Report using Dummy Uniform on the Dataset (30% test set)\n",
      "\n",
      "[[130 146 130 137 156]\n",
      " [143 149 137 140 136]\n",
      " [131 119 161 155 128]\n",
      " [110 140 147 142 128]\n",
      " [143 137 142 132 131]]\n",
      "              precision    recall  f1-score   support\n",
      "\n",
      "           1       0.20      0.19      0.19       699\n",
      "           2       0.22      0.21      0.21       705\n",
      "           3       0.22      0.23      0.23       694\n",
      "           4       0.20      0.21      0.21       667\n",
      "           5       0.19      0.19      0.19       685\n",
      "\n",
      "   micro avg       0.21      0.21      0.21      3450\n",
      "   macro avg       0.21      0.21      0.21      3450\n",
      "weighted avg       0.21      0.21      0.21      3450\n",
      "\n",
      "Classification Report using Dummy Most Frequent on the Dataset (30% test set)\n",
      "\n",
      "[[  0   0   0 699   0]\n",
      " [  0   0   0 705   0]\n",
      " [  0   0   0 694   0]\n",
      " [  0   0   0 667   0]\n",
      " [  0   0   0 685   0]]\n",
      "              precision    recall  f1-score   support\n",
      "\n",
      "           1       0.00      0.00      0.00       699\n",
      "           2       0.00      0.00      0.00       705\n",
      "           3       0.00      0.00      0.00       694\n",
      "           4       0.19      1.00      0.32       667\n",
      "           5       0.00      0.00      0.00       685\n",
      "\n",
      "   micro avg       0.19      0.19      0.19      3450\n",
      "   macro avg       0.04      0.20      0.06      3450\n",
      "weighted avg       0.04      0.19      0.06      3450\n",
      "\n",
      "Classification Report using Dummy Stratified on the Dataset (30% test set)\n",
      "\n",
      "[[157 135 154 152 101]\n",
      " [157 151 146 117 134]\n",
      " [142 145 138 132 137]\n",
      " [126 119 140 151 131]\n",
      " [126 142 154 138 125]]\n",
      "              precision    recall  f1-score   support\n",
      "\n",
      "           1       0.22      0.22      0.22       699\n",
      "           2       0.22      0.21      0.22       705\n",
      "           3       0.19      0.20      0.19       694\n",
      "           4       0.22      0.23      0.22       667\n",
      "           5       0.20      0.18      0.19       685\n",
      "\n",
      "   micro avg       0.21      0.21      0.21      3450\n",
      "   macro avg       0.21      0.21      0.21      3450\n",
      "weighted avg       0.21      0.21      0.21      3450\n",
      "\n"
     ]
    },
    {
     "name": "stderr",
     "output_type": "stream",
     "text": [
      "/home/tyler/anaconda3/lib/python3.6/site-packages/sklearn/metrics/classification.py:1143: UndefinedMetricWarning: Precision and F-score are ill-defined and being set to 0.0 in labels with no predicted samples.\n",
      "  'precision', 'predicted', average, warn_for)\n"
     ]
    }
   ],
   "source": [
    "#fit&predict all dummy classifiers\n",
    "def time_predict_dummy(clf, X_train, X_test, y_train, y_test, labels_name, classifier_name):\n",
    "    start_time = time.time()\n",
    "    results_list = []\n",
    "    model = clf.fit(X_train, y_train)\n",
    "    pred = clf.predict(X_test)\n",
    "    results_list.append(time.time() - start_time)\n",
    "    \n",
    "    results_list.append(pred)\n",
    "    results_list.append(pred)\n",
    "\n",
    "    print(\"Classification Report using \" + classifier_name + \" on the Dataset (30% test set)\\n\")\n",
    "    print(confusion_matrix(y_test, pred))\n",
    "    print(classification_report(y_test, pred, target_names=labels_name))\n",
    "    \n",
    "    return results_list\n",
    "\n",
    "#dc_uniform\n",
    "results_list = time_predict_dummy(dc_uniform, X_train, X_test, dum_y_train, dum_y_test, labels_name, \"Dummy Uniform\")\n",
    "\n",
    "durations.append(results_list[0])\n",
    "predictions_macro.append(results_list[1])\n",
    "predictions_micro.append(results_list[2])\n",
    "\n",
    "#dc_most_frequent\n",
    "results_list = time_predict_dummy(dc_most_frequent, X_train, X_test, dum_y_train, dum_y_test, labels_name, \"Dummy Most Frequent\")\n",
    "\n",
    "durations.append(results_list[0])\n",
    "predictions_macro.append(results_list[1])\n",
    "predictions_micro.append(results_list[2])\n",
    "\n",
    "#dc_stratified\n",
    "results_list = time_predict_dummy(dc_stratified, X_train, X_test, dum_y_train, dum_y_test, labels_name, \"Dummy Stratified\")\n",
    "\n",
    "durations.append(results_list[0])\n",
    "predictions_macro.append(results_list[1])\n",
    "predictions_micro.append(results_list[2])"
   ]
  },
  {
   "cell_type": "markdown",
   "metadata": {},
   "source": [
    "##### Section 4.2 : Gaussian Naive Bayes"
   ]
  },
  {
   "cell_type": "code",
   "execution_count": 427,
   "metadata": {},
   "outputs": [],
   "source": [
    "def fit_predict(estimator, X_train, X_test, y_train, y_test, labels_name, classifier_name):\n",
    "    start_time = time.time()\n",
    "    estimator.fit(X_train, y_train)\n",
    "    pred = estimator.predict(X_test)\n",
    "    duration = time.time() - start_time\n",
    "\n",
    "    print(\"Classification Report using \" + classifier_name +\" on the Dataset (30% test set)\\n\")\n",
    "    print(confusion_matrix(y_test, pred))\n",
    "    print(classification_report(y_test, pred, target_names=labels_name))\n",
    "\n",
    "    print(\"GridSearch Optimal parameters:\\n\")\n",
    "    print(estimator.best_params_)\n",
    "    print()\n",
    "    \n",
    "    return [duration, pred]"
   ]
  },
  {
   "cell_type": "code",
   "execution_count": 428,
   "metadata": {},
   "outputs": [],
   "source": [
    "#Pipeline\n",
    "from imblearn.pipeline import Pipeline\n",
    "from sklearn.decomposition import PCA\n",
    "from sklearn.model_selection import GridSearchCV\n",
    "\n",
    "pca = PCA()\n"
   ]
  },
  {
   "cell_type": "code",
   "execution_count": 429,
   "metadata": {},
   "outputs": [],
   "source": [
    "def optimizer(pipe, hyperparams_dict, predictions, X_train, X_test, y_train, y_test, labels_name, optimization_name, metric_name, durations=None):\n",
    "    estimator = GridSearchCV(pipe, hyperparams_dict, cv=5, scoring=metric_name, n_jobs=-1)\n",
    "    results_list = fit_predict(estimator, X_train, X_test, y_train, y_test, labels_name, optimization_name)\n",
    "    predictions.append(results_list[1])\n",
    "    if durations != None :\n",
    "        durations.append(results_list[0])\n",
    "        return durations, predictions\n",
    "    return predictions"
   ]
  },
  {
   "cell_type": "code",
   "execution_count": 430,
   "metadata": {},
   "outputs": [
    {
     "name": "stdout",
     "output_type": "stream",
     "text": [
      "Classification Report using GNB (macro) optimization on the Dataset (30% test set)\n",
      "\n",
      "[[622  40   0  36   1]\n",
      " [ 31 154 454  27  39]\n",
      " [  3 105 533  26  27]\n",
      " [  2  30  20 471 144]\n",
      " [  0  19 165  70 431]]\n",
      "              precision    recall  f1-score   support\n",
      "\n",
      "           1       0.95      0.89      0.92       699\n",
      "           2       0.44      0.22      0.29       705\n",
      "           3       0.45      0.77      0.57       694\n",
      "           4       0.75      0.71      0.73       667\n",
      "           5       0.67      0.63      0.65       685\n",
      "\n",
      "   micro avg       0.64      0.64      0.64      3450\n",
      "   macro avg       0.65      0.64      0.63      3450\n",
      "weighted avg       0.65      0.64      0.63      3450\n",
      "\n",
      "GridSearch Optimal parameters:\n",
      "\n",
      "{'pca__n_components': 50}\n",
      "\n",
      "--------------------------------------------------------------\n",
      "Classification Report using GNB (micro) optimization on the Dataset (30% test set)\n",
      "\n",
      "[[622  40   0  36   1]\n",
      " [ 31 154 454  27  39]\n",
      " [  3 105 533  26  27]\n",
      " [  2  30  20 471 144]\n",
      " [  0  19 165  70 431]]\n",
      "              precision    recall  f1-score   support\n",
      "\n",
      "           1       0.95      0.89      0.92       699\n",
      "           2       0.44      0.22      0.29       705\n",
      "           3       0.45      0.77      0.57       694\n",
      "           4       0.75      0.71      0.73       667\n",
      "           5       0.67      0.63      0.65       685\n",
      "\n",
      "   micro avg       0.64      0.64      0.64      3450\n",
      "   macro avg       0.65      0.64      0.63      3450\n",
      "weighted avg       0.65      0.64      0.63      3450\n",
      "\n",
      "GridSearch Optimal parameters:\n",
      "\n",
      "{'pca__n_components': 50}\n",
      "\n"
     ]
    }
   ],
   "source": [
    "# GNB case.\n",
    "gnb = GaussianNB()\n",
    "pipe_gnb = Pipeline(steps=[('pca', pca), ('gnb', gnb)], memory = 'tmp')\n",
    "#cross-validation for f1_macro\n",
    "n_components = range(10, 60, 10)\n",
    "hyperparams_gnb = dict(pca__n_components=n_components)\n",
    "\n",
    "#cross-validation for macro\n",
    "# estimator = GridSearchCV(pipe, dict(pca__n_components=n_components), cv=5, scoring='f1_macro', n_jobs=-1)\n",
    "# results_list = fit_predict(estimator, X_train, X_test, dum_y_train, dum_y_test, labels_name, \"GNB (macro) optimization\")\n",
    "# durations.append(results_list[0])\n",
    "# predictions_macro.append(results_list[1])\n",
    "\n",
    "durations, predictions_macro = optimizer(pipe_gnb, hyperparams_gnb, predictions_macro, X_train, X_test, dum_y_train, dum_y_test, labels_name, \"GNB (macro) optimization\", 'f1_macro', durations)\n",
    "\n",
    "print('--------------------------------------------------------------')\n",
    "#cross-validation for micro\n",
    "predictions_micro = optimizer(pipe_gnb, hyperparams_gnb, predictions_micro, X_train, X_test, dum_y_train, dum_y_test, labels_name, \"GNB (micro) optimization\", 'f1_micro')\n",
    "\n",
    "# estimator = GridSearchCV(pipe, dict(pca__n_components=n_components), cv=5, scoring='f1_micro', n_jobs=-1)\n",
    "# results_list = fit_predict(estimator, X_train, X_test, dum_y_train, dum_y_test, labels_name, \"GNB (micro) optimization\")\n",
    "# predictions_micro.append(results_list[1])"
   ]
  },
  {
   "cell_type": "markdown",
   "metadata": {},
   "source": [
    "Βλέπουμε ότι ο βέλτιστος αριθμός κυρίων συνιστωσών PCA για το GNB είναι 50."
   ]
  },
  {
   "cell_type": "markdown",
   "metadata": {},
   "source": [
    "##### Section 4.3 : kNN Classifier"
   ]
  },
  {
   "cell_type": "code",
   "execution_count": 92,
   "metadata": {},
   "outputs": [],
   "source": [
    "clf = neighbors.KNeighborsClassifier()\n",
    "pipe_kNN = Pipeline(steps=[('pca', pca), ('kNN', clf)], memory = 'tmp')"
   ]
  },
  {
   "cell_type": "code",
   "execution_count": 93,
   "metadata": {},
   "outputs": [],
   "source": [
    "#kNN parameters\n",
    "k = [1, 5, 11, 15, 21, 25]\n",
    "weights = ['uniform', 'distance'] #https://scikit-learn.org/stable/modules/generated/sklearn.neighbors.KNeighborsClassifier.html\n",
    "metric = ['euclidean', 'manhattan', 'chebyshev'] #https://scikit-learn.org/stable/modules/generated/sklearn.neighbors.DistanceMetric.html\n",
    "\n",
    "#PCA components\n",
    "n_components = [20, 30, 40, 50]"
   ]
  },
  {
   "cell_type": "code",
   "execution_count": 94,
   "metadata": {
    "scrolled": true
   },
   "outputs": [
    {
     "name": "stdout",
     "output_type": "stream",
     "text": [
      "Classification Report using kNN (macro) optimization on the Dataset (30% test set)\n",
      "\n",
      "[[527  64  44  45  19]\n",
      " [  1 475 178   5  46]\n",
      " [  0 161 464   8  61]\n",
      " [  0  86  97 268 216]\n",
      " [  0 173 230  42 240]]\n",
      "              precision    recall  f1-score   support\n",
      "\n",
      "           1       1.00      0.75      0.86       699\n",
      "           2       0.50      0.67      0.57       705\n",
      "           3       0.46      0.67      0.54       694\n",
      "           4       0.73      0.40      0.52       667\n",
      "           5       0.41      0.35      0.38       685\n",
      "\n",
      "   micro avg       0.57      0.57      0.57      3450\n",
      "   macro avg       0.62      0.57      0.57      3450\n",
      "weighted avg       0.62      0.57      0.58      3450\n",
      "\n",
      "GridSearch Optimal parameters:\n",
      "\n",
      "{'kNN__metric': 'manhattan', 'kNN__n_neighbors': 1, 'kNN__weights': 'uniform', 'pca__n_components': 30}\n",
      "\n",
      "----------------------------------------------\n"
     ]
    }
   ],
   "source": [
    "#cross-validation for f1_macro\n",
    "hyperparams_kNN = dict(pca__n_components=n_components, kNN__n_neighbors=k, kNN__weights=weights, kNN__metric=metric)\n",
    "durations, predictions_macro = optimizer(pipe_kNN, hyperparams_kNN, predictions_macro, X_train, X_test, dum_y_train, dum_y_test, labels_name, \"kNN (macro) optimization\", 'f1_macro', durations)\n",
    "print('----------------------------------------------')"
   ]
  },
  {
   "cell_type": "code",
   "execution_count": 121,
   "metadata": {},
   "outputs": [
    {
     "name": "stdout",
     "output_type": "stream",
     "text": [
      "Classification Report using kNN (micro) optimization on the Dataset (30% test set)\n",
      "\n",
      "[[527  64  44  45  19]\n",
      " [  1 475 178   5  46]\n",
      " [  0 161 464   8  61]\n",
      " [  0  86  97 268 216]\n",
      " [  0 173 230  42 240]]\n",
      "              precision    recall  f1-score   support\n",
      "\n",
      "           1       1.00      0.75      0.86       699\n",
      "           2       0.50      0.67      0.57       705\n",
      "           3       0.46      0.67      0.54       694\n",
      "           4       0.73      0.40      0.52       667\n",
      "           5       0.41      0.35      0.38       685\n",
      "\n",
      "   micro avg       0.57      0.57      0.57      3450\n",
      "   macro avg       0.62      0.57      0.57      3450\n",
      "weighted avg       0.62      0.57      0.58      3450\n",
      "\n",
      "GridSearch Optimal parameters:\n",
      "\n",
      "{'kNN__metric': 'manhattan', 'kNN__n_neighbors': 1, 'kNN__weights': 'uniform', 'pca__n_components': 30}\n",
      "\n"
     ]
    }
   ],
   "source": [
    "#cross-validation for micro\n",
    "predictions_micro = optimizer(pipe_kNN, hyperparams_kNN, predictions_micro, X_train, X_test, dum_y_train, dum_y_test, labels_name, \"kNN (micro) optimization\", 'f1_micro')\n"
   ]
  },
  {
   "cell_type": "markdown",
   "metadata": {},
   "source": [
    "Για τον ταξινομητή kNN, οι βέλτιστες παράμετροι φαίνονται παραπάνω, μεταξύ των οποίων το βέλτιστο k είναι 1 και το πλήθος των νέων χαρακτηριστικών μέσω PCA είναι 30. Ένα αντικείμενο ταξινομείται με βάση την πλειοψηφική κλάση των γειτόνων του, (δηλαδή το αντικείμενο ανατίθεται στην τάξη που είναι πιο συνηθισμένη στους πλησιέστερους γείτονές του (k είναι θετικός ακέραιος, συνήθως μικρός)). Αν k = 1, τότε το αντικείμενο απλώς αποδίδεται στην κλάση του μοναδικού πλησιέστερου γείτονα, πράγμα που φαίνεται να είναι το βέλτιστο για το συγκεκριμένο Dataset."
   ]
  },
  {
   "cell_type": "markdown",
   "metadata": {},
   "source": [
    "##### Section 4.4 : Multi-Layer Perceptron\n",
    "\n",
    "Όπως αναφέρεται και στο FAQ : _'Εάν ένα dataset είναι πολύ μεγάλο, θέλετε να εξερευνήσετε ένα μεγάλο χώρο αναζήτησης υπερπαραμέτρων και δείτε ότι καθυστερεί το gridsearch cv, μπορείτε να ξεκινήσετε την αναζήτηση κάνοντας τυχαίο sampling δειγμάτων ενός ποσοστού του dataset. Εφόσον προσδιορίσετε τις περιοχές τιμών που δίνουν καλά αποτελέσματα, μπορείτε να κάνετε ένα πιο στενό grid search με όλα τα δείγματα.'_"
   ]
  },
  {
   "cell_type": "code",
   "execution_count": 40,
   "metadata": {},
   "outputs": [
    {
     "name": "stderr",
     "output_type": "stream",
     "text": [
      "/home/tyler/anaconda3/lib/python3.6/site-packages/sklearn/utils/validation.py:595: DataConversionWarning: Data with input dtype object was converted to float64 by the scale function.\n",
      "  warnings.warn(msg, DataConversionWarning)\n",
      "/home/tyler/anaconda3/lib/python3.6/site-packages/sklearn/utils/validation.py:595: DataConversionWarning: Data with input dtype object was converted to float64 by StandardScaler.\n",
      "  warnings.warn(msg, DataConversionWarning)\n",
      "/home/tyler/anaconda3/lib/python3.6/site-packages/sklearn/utils/validation.py:595: DataConversionWarning: Data with input dtype object was converted to float64 by StandardScaler.\n",
      "  warnings.warn(msg, DataConversionWarning)\n",
      "/home/tyler/anaconda3/lib/python3.6/site-packages/sklearn/utils/validation.py:595: DataConversionWarning: Data with input dtype object was converted to float64 by MinMaxScaler.\n",
      "  warnings.warn(msg, DataConversionWarning)\n"
     ]
    }
   ],
   "source": [
    "from sklearn.utils import shuffle\n",
    "sdata, starget = shuffle(features, targets, random_state=341976)\n",
    "# Pick a smaller part for the dataset.\n",
    "samples = 1500\n",
    "features_small = sdata[0:samples, :]\n",
    "targets_small = starget[0:samples]\n",
    "targets_bin_small = mlb.transform(targets_small)\n",
    "X_train_small, X_test_small, y_train_small, y_test_small = train_test_split(features_small, targets_small, test_size=0.30, random_state=20176)\n",
    "# Norm\n",
    "X_train_scaled_small = preprocessing.scale(X_train_small)\n",
    "scaler_small = preprocessing.StandardScaler().fit(X_train_small)\n",
    "X_test_scaled_small = scaler_small.transform(X_test_small)\n",
    "# Minmax\n",
    "X_train_minmax_small = min_max_scaler.fit_transform(X_train_small)\n",
    "X_test_minmax_small = min_max_scaler.transform(X_test_small)\n",
    "# ...\n",
    "#print(X_train_scaled_small.shape)"
   ]
  },
  {
   "cell_type": "code",
   "execution_count": 219,
   "metadata": {},
   "outputs": [],
   "source": [
    "clf = MLPClassifier()\n",
    "pipe_mlp = Pipeline(steps=[('pca', pca), ('MLP', clf)], memory = 'tmp')"
   ]
  },
  {
   "cell_type": "code",
   "execution_count": 42,
   "metadata": {},
   "outputs": [],
   "source": [
    "# MLP parameters\n",
    "hidden_layer_sizes = [(10,), (25,), (100,)]\n",
    "activation = ['identity', 'tanh', 'relu']\n",
    "solver = ['lbfgs', 'sgd'] #https://scikit-learn.org/stable/modules/generated/sklearn.neural_network.MLPClassifier.html\n",
    "max_iter = [300]\n",
    "learning_rate = ['invscaling', 'adaptive']\n",
    "alpha = [0.00005, 0.0001]\n",
    "\n",
    "#PCA components\n",
    "n_components = [40, 60, 80]"
   ]
  },
  {
   "cell_type": "code",
   "execution_count": 43,
   "metadata": {},
   "outputs": [
    {
     "name": "stderr",
     "output_type": "stream",
     "text": [
      "/home/tyler/anaconda3/lib/python3.6/site-packages/sklearn/model_selection/_search.py:841: DeprecationWarning: The default of the `iid` parameter will change from True to False in version 0.22 and will be removed in 0.24. This will change numeric results when test-set sizes are unequal.\n",
      "  DeprecationWarning)\n"
     ]
    },
    {
     "name": "stdout",
     "output_type": "stream",
     "text": [
      "Classification Report using MLP (macro) optimization (small) on the Dataset (30% test set)\n",
      "\n",
      "[[55 15 12 10 13]\n",
      " [14 24 35  2  5]\n",
      " [ 9 33 41  2 15]\n",
      " [16  6  3 40 26]\n",
      " [10  8 15 22 19]]\n",
      "              precision    recall  f1-score   support\n",
      "\n",
      "           1       0.53      0.52      0.53       105\n",
      "           2       0.28      0.30      0.29        80\n",
      "           3       0.39      0.41      0.40       100\n",
      "           4       0.53      0.44      0.48        91\n",
      "           5       0.24      0.26      0.25        74\n",
      "\n",
      "   micro avg       0.40      0.40      0.40       450\n",
      "   macro avg       0.39      0.39      0.39       450\n",
      "weighted avg       0.41      0.40      0.40       450\n",
      "\n",
      "GridSearch Optimal parameters:\n",
      "\n",
      "{'MLP__activation': 'relu', 'MLP__alpha': 5e-05, 'MLP__hidden_layer_sizes': (100,), 'MLP__learning_rate': 'adaptive', 'MLP__max_iter': 300, 'MLP__solver': 'sgd', 'pca__n_components': 40}\n",
      "\n",
      "--------------------------------------------------------\n"
     ]
    },
    {
     "name": "stderr",
     "output_type": "stream",
     "text": [
      "/home/tyler/anaconda3/lib/python3.6/site-packages/sklearn/model_selection/_search.py:841: DeprecationWarning: The default of the `iid` parameter will change from True to False in version 0.22 and will be removed in 0.24. This will change numeric results when test-set sizes are unequal.\n",
      "  DeprecationWarning)\n"
     ]
    },
    {
     "name": "stdout",
     "output_type": "stream",
     "text": [
      "Classification Report using MLP (micro) optimization (small) on the Dataset (30% test set)\n",
      "\n",
      "[[58 14  9  8 16]\n",
      " [16 17 38  2  7]\n",
      " [10 31 45  2 12]\n",
      " [18  6  4 42 21]\n",
      " [13 10 10 20 21]]\n",
      "              precision    recall  f1-score   support\n",
      "\n",
      "           1       0.50      0.55      0.53       105\n",
      "           2       0.22      0.21      0.22        80\n",
      "           3       0.42      0.45      0.44       100\n",
      "           4       0.57      0.46      0.51        91\n",
      "           5       0.27      0.28      0.28        74\n",
      "\n",
      "   micro avg       0.41      0.41      0.41       450\n",
      "   macro avg       0.40      0.39      0.39       450\n",
      "weighted avg       0.41      0.41      0.41       450\n",
      "\n",
      "GridSearch Optimal parameters:\n",
      "\n",
      "{'MLP__activation': 'relu', 'MLP__alpha': 5e-05, 'MLP__hidden_layer_sizes': (100,), 'MLP__learning_rate': 'adaptive', 'MLP__max_iter': 300, 'MLP__solver': 'sgd', 'pca__n_components': 40}\n",
      "\n"
     ]
    }
   ],
   "source": [
    "# Add code for the small.\n",
    "predictions_macro_small = []\n",
    "predictions_micro_small = []\n",
    "durations_small = []\n",
    "\n",
    "#cross-validation for f1_macro\n",
    "hyperparams_mlp = dict(pca__n_components=n_components, MLP__hidden_layer_sizes=hidden_layer_sizes, MLP__activation=activation, MLP__solver=solver, MLP__max_iter=max_iter, MLP__learning_rate=learning_rate, MLP__alpha=alpha)\n",
    "durations_small, predictions_macro_small = optimizer(pipe_mlp, hyperparams_mlp, predictions_macro_small, X_train_small, X_test_small, y_train_small, y_test_small, labels_name, \"MLP (macro) optimization (small)\", 'f1_macro', durations)\n",
    "\n",
    "print('--------------------------------------------------------')\n",
    "predictions_micro_small = optimizer(pipe_mlp, hyperparams_mlp, predictions_micro_small, X_train_small, X_test_small, y_train_small, y_test_small, labels_name, \"MLP (micro) optimization (small)\", 'f1_micro')"
   ]
  },
  {
   "cell_type": "markdown",
   "metadata": {},
   "source": [
    "Την παραπάνω εκτέλεση δεν την κάναμε για να δούμε σκορ αλλά για να αποκτήσουμε μία διαίσθηση για το pca που θα μπορούσαμε να επιλέξουμε παρακάτω. Αυτός είναι και ο λόγος που επιλέξαμε να κάνουμε την εκτέλεση σε ένα μικρό μέρος του Dataset, δηλαδή για να έχουμε σχετικά γρήγορα μια εικόνα για το βέλτιστο pca και να μειώσουμε στη συνέχεια τον χώρο αναζήτησης βέλτιστων υπερπαραμέτρων, πράγμα αναγκαίο για να μπορεί ο αλγόριθμος να τρέξει εντός λίγων ωρών. \n",
    "\n",
    "Βρήκαμε το pca = 40. Δηλαδή βρήκαμε μία κατεύθυνση προς τα που θα κυμαίνεται μία λύση κοντά στη περιοχή βέλτιστων λύσεων. Αυτό φυσικά δεν αποδεικνύει ότι η τιμή pca=40 είναι βέλτιστη για αυτό και, στη συνέχεια, έχοντας φιξάρει τις επικρατέστερες υπερπαραμέτρους δοκιμάζουμε optimization και πάνω στο PCA."
   ]
  },
  {
   "cell_type": "code",
   "execution_count": 45,
   "metadata": {},
   "outputs": [
    {
     "name": "stderr",
     "output_type": "stream",
     "text": [
      "/home/tyler/anaconda3/lib/python3.6/site-packages/sklearn/neural_network/multilayer_perceptron.py:562: ConvergenceWarning: Stochastic Optimizer: Maximum iterations (300) reached and the optimization hasn't converged yet.\n",
      "  % self.max_iter, ConvergenceWarning)\n"
     ]
    },
    {
     "name": "stdout",
     "output_type": "stream",
     "text": [
      "Classification Report using MLP (macro) optimization on the Dataset (30% test set)\n",
      "\n",
      "[[649  12   8  30   0]\n",
      " [ 25 338 278  17  47]\n",
      " [  7 171 437  17  62]\n",
      " [  5  13  15 496 138]\n",
      " [  0  49  64 111 461]]\n",
      "              precision    recall  f1-score   support\n",
      "\n",
      "           1       0.95      0.93      0.94       699\n",
      "           2       0.58      0.48      0.52       705\n",
      "           3       0.54      0.63      0.58       694\n",
      "           4       0.74      0.74      0.74       667\n",
      "           5       0.65      0.67      0.66       685\n",
      "\n",
      "   micro avg       0.69      0.69      0.69      3450\n",
      "   macro avg       0.69      0.69      0.69      3450\n",
      "weighted avg       0.69      0.69      0.69      3450\n",
      "\n",
      "GridSearch Optimal parameters:\n",
      "\n",
      "{'MLP__activation': 'logistic', 'MLP__alpha': 0.0002, 'MLP__hidden_layer_sizes': (100,), 'MLP__learning_rate': 'constant', 'MLP__max_iter': 300, 'MLP__solver': 'adam', 'pca__n_components': 40}\n",
      "\n",
      "--------------------------------------------------------\n"
     ]
    },
    {
     "ename": "KeyboardInterrupt",
     "evalue": "",
     "output_type": "error",
     "traceback": [
      "\u001b[0;31m---------------------------------------------------------------------------\u001b[0m",
      "\u001b[0;31mKeyboardInterrupt\u001b[0m                         Traceback (most recent call last)",
      "\u001b[0;32m<ipython-input-45-3d776123411a>\u001b[0m in \u001b[0;36m<module>\u001b[0;34m()\u001b[0m\n\u001b[1;32m     33\u001b[0m \u001b[0;34m\u001b[0m\u001b[0m\n\u001b[1;32m     34\u001b[0m \u001b[0mprint\u001b[0m\u001b[0;34m(\u001b[0m\u001b[0;34m'--------------------------------------------------------'\u001b[0m\u001b[0;34m)\u001b[0m\u001b[0;34m\u001b[0m\u001b[0m\n\u001b[0;32m---> 35\u001b[0;31m \u001b[0mpredictions_micro\u001b[0m \u001b[0;34m=\u001b[0m \u001b[0moptimizer\u001b[0m\u001b[0;34m(\u001b[0m\u001b[0mpipe_mlp\u001b[0m\u001b[0;34m,\u001b[0m \u001b[0mhyperparams_mlp\u001b[0m\u001b[0;34m,\u001b[0m \u001b[0mpredictions_micro\u001b[0m\u001b[0;34m,\u001b[0m \u001b[0mX_train\u001b[0m\u001b[0;34m,\u001b[0m \u001b[0mX_test\u001b[0m\u001b[0;34m,\u001b[0m \u001b[0my_train\u001b[0m\u001b[0;34m,\u001b[0m \u001b[0my_test\u001b[0m\u001b[0;34m,\u001b[0m \u001b[0mlabels_name\u001b[0m\u001b[0;34m,\u001b[0m \u001b[0;34m\"MLP (micro) optimization\"\u001b[0m\u001b[0;34m,\u001b[0m \u001b[0;34m'f1_micro'\u001b[0m\u001b[0;34m)\u001b[0m\u001b[0;34m\u001b[0m\u001b[0m\n\u001b[0m\u001b[1;32m     36\u001b[0m \u001b[0;34m\u001b[0m\u001b[0m\n\u001b[1;32m     37\u001b[0m \u001b[0;31m#cross-validation for micro\u001b[0m\u001b[0;34m\u001b[0m\u001b[0;34m\u001b[0m\u001b[0m\n",
      "\u001b[0;32m<ipython-input-31-9fe4cbbae504>\u001b[0m in \u001b[0;36moptimizer\u001b[0;34m(pipe, hyperparams_dict, predictions, X_train, X_test, y_train, y_test, labels_name, optimization_name, metric_name, durations)\u001b[0m\n\u001b[1;32m      1\u001b[0m \u001b[0;32mdef\u001b[0m \u001b[0moptimizer\u001b[0m\u001b[0;34m(\u001b[0m\u001b[0mpipe\u001b[0m\u001b[0;34m,\u001b[0m \u001b[0mhyperparams_dict\u001b[0m\u001b[0;34m,\u001b[0m \u001b[0mpredictions\u001b[0m\u001b[0;34m,\u001b[0m \u001b[0mX_train\u001b[0m\u001b[0;34m,\u001b[0m \u001b[0mX_test\u001b[0m\u001b[0;34m,\u001b[0m \u001b[0my_train\u001b[0m\u001b[0;34m,\u001b[0m \u001b[0my_test\u001b[0m\u001b[0;34m,\u001b[0m \u001b[0mlabels_name\u001b[0m\u001b[0;34m,\u001b[0m \u001b[0moptimization_name\u001b[0m\u001b[0;34m,\u001b[0m \u001b[0mmetric_name\u001b[0m\u001b[0;34m,\u001b[0m \u001b[0mdurations\u001b[0m\u001b[0;34m=\u001b[0m\u001b[0;32mNone\u001b[0m\u001b[0;34m)\u001b[0m\u001b[0;34m:\u001b[0m\u001b[0;34m\u001b[0m\u001b[0m\n\u001b[1;32m      2\u001b[0m     \u001b[0mestimator\u001b[0m \u001b[0;34m=\u001b[0m \u001b[0mGridSearchCV\u001b[0m\u001b[0;34m(\u001b[0m\u001b[0mpipe\u001b[0m\u001b[0;34m,\u001b[0m \u001b[0mhyperparams_dict\u001b[0m\u001b[0;34m,\u001b[0m \u001b[0mcv\u001b[0m\u001b[0;34m=\u001b[0m\u001b[0;36m5\u001b[0m\u001b[0;34m,\u001b[0m \u001b[0mscoring\u001b[0m\u001b[0;34m=\u001b[0m\u001b[0mmetric_name\u001b[0m\u001b[0;34m,\u001b[0m \u001b[0mn_jobs\u001b[0m\u001b[0;34m=\u001b[0m\u001b[0;34m-\u001b[0m\u001b[0;36m1\u001b[0m\u001b[0;34m)\u001b[0m\u001b[0;34m\u001b[0m\u001b[0m\n\u001b[0;32m----> 3\u001b[0;31m     \u001b[0mresults_list\u001b[0m \u001b[0;34m=\u001b[0m \u001b[0mfit_predict\u001b[0m\u001b[0;34m(\u001b[0m\u001b[0mestimator\u001b[0m\u001b[0;34m,\u001b[0m \u001b[0mX_train\u001b[0m\u001b[0;34m,\u001b[0m \u001b[0mX_test\u001b[0m\u001b[0;34m,\u001b[0m \u001b[0my_train\u001b[0m\u001b[0;34m,\u001b[0m \u001b[0my_test\u001b[0m\u001b[0;34m,\u001b[0m \u001b[0mlabels_name\u001b[0m\u001b[0;34m,\u001b[0m \u001b[0moptimization_name\u001b[0m\u001b[0;34m)\u001b[0m\u001b[0;34m\u001b[0m\u001b[0m\n\u001b[0m\u001b[1;32m      4\u001b[0m     \u001b[0mpredictions\u001b[0m\u001b[0;34m.\u001b[0m\u001b[0mappend\u001b[0m\u001b[0;34m(\u001b[0m\u001b[0mresults_list\u001b[0m\u001b[0;34m[\u001b[0m\u001b[0;36m1\u001b[0m\u001b[0;34m]\u001b[0m\u001b[0;34m)\u001b[0m\u001b[0;34m\u001b[0m\u001b[0m\n\u001b[1;32m      5\u001b[0m     \u001b[0;32mif\u001b[0m \u001b[0mdurations\u001b[0m \u001b[0;34m!=\u001b[0m \u001b[0;32mNone\u001b[0m \u001b[0;34m:\u001b[0m\u001b[0;34m\u001b[0m\u001b[0m\n",
      "\u001b[0;32m<ipython-input-29-b51465bbec94>\u001b[0m in \u001b[0;36mfit_predict\u001b[0;34m(estimator, X_train, X_test, y_train, y_test, labels_name, classifier_name)\u001b[0m\n\u001b[1;32m      1\u001b[0m \u001b[0;32mdef\u001b[0m \u001b[0mfit_predict\u001b[0m\u001b[0;34m(\u001b[0m\u001b[0mestimator\u001b[0m\u001b[0;34m,\u001b[0m \u001b[0mX_train\u001b[0m\u001b[0;34m,\u001b[0m \u001b[0mX_test\u001b[0m\u001b[0;34m,\u001b[0m \u001b[0my_train\u001b[0m\u001b[0;34m,\u001b[0m \u001b[0my_test\u001b[0m\u001b[0;34m,\u001b[0m \u001b[0mlabels_name\u001b[0m\u001b[0;34m,\u001b[0m \u001b[0mclassifier_name\u001b[0m\u001b[0;34m)\u001b[0m\u001b[0;34m:\u001b[0m\u001b[0;34m\u001b[0m\u001b[0m\n\u001b[1;32m      2\u001b[0m     \u001b[0mstart_time\u001b[0m \u001b[0;34m=\u001b[0m \u001b[0mtime\u001b[0m\u001b[0;34m.\u001b[0m\u001b[0mtime\u001b[0m\u001b[0;34m(\u001b[0m\u001b[0;34m)\u001b[0m\u001b[0;34m\u001b[0m\u001b[0m\n\u001b[0;32m----> 3\u001b[0;31m     \u001b[0mestimator\u001b[0m\u001b[0;34m.\u001b[0m\u001b[0mfit\u001b[0m\u001b[0;34m(\u001b[0m\u001b[0mX_train\u001b[0m\u001b[0;34m,\u001b[0m \u001b[0my_train\u001b[0m\u001b[0;34m)\u001b[0m\u001b[0;34m\u001b[0m\u001b[0m\n\u001b[0m\u001b[1;32m      4\u001b[0m     \u001b[0mpred\u001b[0m \u001b[0;34m=\u001b[0m \u001b[0mestimator\u001b[0m\u001b[0;34m.\u001b[0m\u001b[0mpredict\u001b[0m\u001b[0;34m(\u001b[0m\u001b[0mX_test\u001b[0m\u001b[0;34m)\u001b[0m\u001b[0;34m\u001b[0m\u001b[0m\n\u001b[1;32m      5\u001b[0m     \u001b[0mduration\u001b[0m \u001b[0;34m=\u001b[0m \u001b[0mtime\u001b[0m\u001b[0;34m.\u001b[0m\u001b[0mtime\u001b[0m\u001b[0;34m(\u001b[0m\u001b[0;34m)\u001b[0m \u001b[0;34m-\u001b[0m \u001b[0mstart_time\u001b[0m\u001b[0;34m\u001b[0m\u001b[0m\n",
      "\u001b[0;32m~/anaconda3/lib/python3.6/site-packages/sklearn/model_selection/_search.py\u001b[0m in \u001b[0;36mfit\u001b[0;34m(self, X, y, groups, **fit_params)\u001b[0m\n\u001b[1;32m    720\u001b[0m                 \u001b[0;32mreturn\u001b[0m \u001b[0mresults_container\u001b[0m\u001b[0;34m[\u001b[0m\u001b[0;36m0\u001b[0m\u001b[0;34m]\u001b[0m\u001b[0;34m\u001b[0m\u001b[0m\n\u001b[1;32m    721\u001b[0m \u001b[0;34m\u001b[0m\u001b[0m\n\u001b[0;32m--> 722\u001b[0;31m             \u001b[0mself\u001b[0m\u001b[0;34m.\u001b[0m\u001b[0m_run_search\u001b[0m\u001b[0;34m(\u001b[0m\u001b[0mevaluate_candidates\u001b[0m\u001b[0;34m)\u001b[0m\u001b[0;34m\u001b[0m\u001b[0m\n\u001b[0m\u001b[1;32m    723\u001b[0m \u001b[0;34m\u001b[0m\u001b[0m\n\u001b[1;32m    724\u001b[0m         \u001b[0mresults\u001b[0m \u001b[0;34m=\u001b[0m \u001b[0mresults_container\u001b[0m\u001b[0;34m[\u001b[0m\u001b[0;36m0\u001b[0m\u001b[0;34m]\u001b[0m\u001b[0;34m\u001b[0m\u001b[0m\n",
      "\u001b[0;32m~/anaconda3/lib/python3.6/site-packages/sklearn/model_selection/_search.py\u001b[0m in \u001b[0;36m_run_search\u001b[0;34m(self, evaluate_candidates)\u001b[0m\n\u001b[1;32m   1189\u001b[0m     \u001b[0;32mdef\u001b[0m \u001b[0m_run_search\u001b[0m\u001b[0;34m(\u001b[0m\u001b[0mself\u001b[0m\u001b[0;34m,\u001b[0m \u001b[0mevaluate_candidates\u001b[0m\u001b[0;34m)\u001b[0m\u001b[0;34m:\u001b[0m\u001b[0;34m\u001b[0m\u001b[0m\n\u001b[1;32m   1190\u001b[0m         \u001b[0;34m\"\"\"Search all candidates in param_grid\"\"\"\u001b[0m\u001b[0;34m\u001b[0m\u001b[0m\n\u001b[0;32m-> 1191\u001b[0;31m         \u001b[0mevaluate_candidates\u001b[0m\u001b[0;34m(\u001b[0m\u001b[0mParameterGrid\u001b[0m\u001b[0;34m(\u001b[0m\u001b[0mself\u001b[0m\u001b[0;34m.\u001b[0m\u001b[0mparam_grid\u001b[0m\u001b[0;34m)\u001b[0m\u001b[0;34m)\u001b[0m\u001b[0;34m\u001b[0m\u001b[0m\n\u001b[0m\u001b[1;32m   1192\u001b[0m \u001b[0;34m\u001b[0m\u001b[0m\n\u001b[1;32m   1193\u001b[0m \u001b[0;34m\u001b[0m\u001b[0m\n",
      "\u001b[0;32m~/anaconda3/lib/python3.6/site-packages/sklearn/model_selection/_search.py\u001b[0m in \u001b[0;36mevaluate_candidates\u001b[0;34m(candidate_params)\u001b[0m\n\u001b[1;32m    709\u001b[0m                                \u001b[0;32mfor\u001b[0m \u001b[0mparameters\u001b[0m\u001b[0;34m,\u001b[0m \u001b[0;34m(\u001b[0m\u001b[0mtrain\u001b[0m\u001b[0;34m,\u001b[0m \u001b[0mtest\u001b[0m\u001b[0;34m)\u001b[0m\u001b[0;34m\u001b[0m\u001b[0m\n\u001b[1;32m    710\u001b[0m                                in product(candidate_params,\n\u001b[0;32m--> 711\u001b[0;31m                                           cv.split(X, y, groups)))\n\u001b[0m\u001b[1;32m    712\u001b[0m \u001b[0;34m\u001b[0m\u001b[0m\n\u001b[1;32m    713\u001b[0m                 \u001b[0mall_candidate_params\u001b[0m\u001b[0;34m.\u001b[0m\u001b[0mextend\u001b[0m\u001b[0;34m(\u001b[0m\u001b[0mcandidate_params\u001b[0m\u001b[0;34m)\u001b[0m\u001b[0;34m\u001b[0m\u001b[0m\n",
      "\u001b[0;32m~/anaconda3/lib/python3.6/site-packages/sklearn/externals/joblib/parallel.py\u001b[0m in \u001b[0;36m__call__\u001b[0;34m(self, iterable)\u001b[0m\n\u001b[1;32m    928\u001b[0m \u001b[0;34m\u001b[0m\u001b[0m\n\u001b[1;32m    929\u001b[0m             \u001b[0;32mwith\u001b[0m \u001b[0mself\u001b[0m\u001b[0;34m.\u001b[0m\u001b[0m_backend\u001b[0m\u001b[0;34m.\u001b[0m\u001b[0mretrieval_context\u001b[0m\u001b[0;34m(\u001b[0m\u001b[0;34m)\u001b[0m\u001b[0;34m:\u001b[0m\u001b[0;34m\u001b[0m\u001b[0m\n\u001b[0;32m--> 930\u001b[0;31m                 \u001b[0mself\u001b[0m\u001b[0;34m.\u001b[0m\u001b[0mretrieve\u001b[0m\u001b[0;34m(\u001b[0m\u001b[0;34m)\u001b[0m\u001b[0;34m\u001b[0m\u001b[0m\n\u001b[0m\u001b[1;32m    931\u001b[0m             \u001b[0;31m# Make sure that we get a last message telling us we are done\u001b[0m\u001b[0;34m\u001b[0m\u001b[0;34m\u001b[0m\u001b[0m\n\u001b[1;32m    932\u001b[0m             \u001b[0melapsed_time\u001b[0m \u001b[0;34m=\u001b[0m \u001b[0mtime\u001b[0m\u001b[0;34m.\u001b[0m\u001b[0mtime\u001b[0m\u001b[0;34m(\u001b[0m\u001b[0;34m)\u001b[0m \u001b[0;34m-\u001b[0m \u001b[0mself\u001b[0m\u001b[0;34m.\u001b[0m\u001b[0m_start_time\u001b[0m\u001b[0;34m\u001b[0m\u001b[0m\n",
      "\u001b[0;32m~/anaconda3/lib/python3.6/site-packages/sklearn/externals/joblib/parallel.py\u001b[0m in \u001b[0;36mretrieve\u001b[0;34m(self)\u001b[0m\n\u001b[1;32m    831\u001b[0m             \u001b[0;32mtry\u001b[0m\u001b[0;34m:\u001b[0m\u001b[0;34m\u001b[0m\u001b[0m\n\u001b[1;32m    832\u001b[0m                 \u001b[0;32mif\u001b[0m \u001b[0mgetattr\u001b[0m\u001b[0;34m(\u001b[0m\u001b[0mself\u001b[0m\u001b[0;34m.\u001b[0m\u001b[0m_backend\u001b[0m\u001b[0;34m,\u001b[0m \u001b[0;34m'supports_timeout'\u001b[0m\u001b[0;34m,\u001b[0m \u001b[0;32mFalse\u001b[0m\u001b[0;34m)\u001b[0m\u001b[0;34m:\u001b[0m\u001b[0;34m\u001b[0m\u001b[0m\n\u001b[0;32m--> 833\u001b[0;31m                     \u001b[0mself\u001b[0m\u001b[0;34m.\u001b[0m\u001b[0m_output\u001b[0m\u001b[0;34m.\u001b[0m\u001b[0mextend\u001b[0m\u001b[0;34m(\u001b[0m\u001b[0mjob\u001b[0m\u001b[0;34m.\u001b[0m\u001b[0mget\u001b[0m\u001b[0;34m(\u001b[0m\u001b[0mtimeout\u001b[0m\u001b[0;34m=\u001b[0m\u001b[0mself\u001b[0m\u001b[0;34m.\u001b[0m\u001b[0mtimeout\u001b[0m\u001b[0;34m)\u001b[0m\u001b[0;34m)\u001b[0m\u001b[0;34m\u001b[0m\u001b[0m\n\u001b[0m\u001b[1;32m    834\u001b[0m                 \u001b[0;32melse\u001b[0m\u001b[0;34m:\u001b[0m\u001b[0;34m\u001b[0m\u001b[0m\n\u001b[1;32m    835\u001b[0m                     \u001b[0mself\u001b[0m\u001b[0;34m.\u001b[0m\u001b[0m_output\u001b[0m\u001b[0;34m.\u001b[0m\u001b[0mextend\u001b[0m\u001b[0;34m(\u001b[0m\u001b[0mjob\u001b[0m\u001b[0;34m.\u001b[0m\u001b[0mget\u001b[0m\u001b[0;34m(\u001b[0m\u001b[0;34m)\u001b[0m\u001b[0;34m)\u001b[0m\u001b[0;34m\u001b[0m\u001b[0m\n",
      "\u001b[0;32m~/anaconda3/lib/python3.6/site-packages/sklearn/externals/joblib/_parallel_backends.py\u001b[0m in \u001b[0;36mwrap_future_result\u001b[0;34m(future, timeout)\u001b[0m\n\u001b[1;32m    519\u001b[0m         AsyncResults.get from multiprocessing.\"\"\"\n\u001b[1;32m    520\u001b[0m         \u001b[0;32mtry\u001b[0m\u001b[0;34m:\u001b[0m\u001b[0;34m\u001b[0m\u001b[0m\n\u001b[0;32m--> 521\u001b[0;31m             \u001b[0;32mreturn\u001b[0m \u001b[0mfuture\u001b[0m\u001b[0;34m.\u001b[0m\u001b[0mresult\u001b[0m\u001b[0;34m(\u001b[0m\u001b[0mtimeout\u001b[0m\u001b[0;34m=\u001b[0m\u001b[0mtimeout\u001b[0m\u001b[0;34m)\u001b[0m\u001b[0;34m\u001b[0m\u001b[0m\n\u001b[0m\u001b[1;32m    522\u001b[0m         \u001b[0;32mexcept\u001b[0m \u001b[0mLokyTimeoutError\u001b[0m\u001b[0;34m:\u001b[0m\u001b[0;34m\u001b[0m\u001b[0m\n\u001b[1;32m    523\u001b[0m             \u001b[0;32mraise\u001b[0m \u001b[0mTimeoutError\u001b[0m\u001b[0;34m(\u001b[0m\u001b[0;34m)\u001b[0m\u001b[0;34m\u001b[0m\u001b[0m\n",
      "\u001b[0;32m~/anaconda3/lib/python3.6/concurrent/futures/_base.py\u001b[0m in \u001b[0;36mresult\u001b[0;34m(self, timeout)\u001b[0m\n\u001b[1;32m    425\u001b[0m                 \u001b[0;32mreturn\u001b[0m \u001b[0mself\u001b[0m\u001b[0;34m.\u001b[0m\u001b[0m__get_result\u001b[0m\u001b[0;34m(\u001b[0m\u001b[0;34m)\u001b[0m\u001b[0;34m\u001b[0m\u001b[0m\n\u001b[1;32m    426\u001b[0m \u001b[0;34m\u001b[0m\u001b[0m\n\u001b[0;32m--> 427\u001b[0;31m             \u001b[0mself\u001b[0m\u001b[0;34m.\u001b[0m\u001b[0m_condition\u001b[0m\u001b[0;34m.\u001b[0m\u001b[0mwait\u001b[0m\u001b[0;34m(\u001b[0m\u001b[0mtimeout\u001b[0m\u001b[0;34m)\u001b[0m\u001b[0;34m\u001b[0m\u001b[0m\n\u001b[0m\u001b[1;32m    428\u001b[0m \u001b[0;34m\u001b[0m\u001b[0m\n\u001b[1;32m    429\u001b[0m             \u001b[0;32mif\u001b[0m \u001b[0mself\u001b[0m\u001b[0;34m.\u001b[0m\u001b[0m_state\u001b[0m \u001b[0;32min\u001b[0m \u001b[0;34m[\u001b[0m\u001b[0mCANCELLED\u001b[0m\u001b[0;34m,\u001b[0m \u001b[0mCANCELLED_AND_NOTIFIED\u001b[0m\u001b[0;34m]\u001b[0m\u001b[0;34m:\u001b[0m\u001b[0;34m\u001b[0m\u001b[0m\n",
      "\u001b[0;32m~/anaconda3/lib/python3.6/threading.py\u001b[0m in \u001b[0;36mwait\u001b[0;34m(self, timeout)\u001b[0m\n\u001b[1;32m    293\u001b[0m         \u001b[0;32mtry\u001b[0m\u001b[0;34m:\u001b[0m    \u001b[0;31m# restore state no matter what (e.g., KeyboardInterrupt)\u001b[0m\u001b[0;34m\u001b[0m\u001b[0m\n\u001b[1;32m    294\u001b[0m             \u001b[0;32mif\u001b[0m \u001b[0mtimeout\u001b[0m \u001b[0;32mis\u001b[0m \u001b[0;32mNone\u001b[0m\u001b[0;34m:\u001b[0m\u001b[0;34m\u001b[0m\u001b[0m\n\u001b[0;32m--> 295\u001b[0;31m                 \u001b[0mwaiter\u001b[0m\u001b[0;34m.\u001b[0m\u001b[0macquire\u001b[0m\u001b[0;34m(\u001b[0m\u001b[0;34m)\u001b[0m\u001b[0;34m\u001b[0m\u001b[0m\n\u001b[0m\u001b[1;32m    296\u001b[0m                 \u001b[0mgotit\u001b[0m \u001b[0;34m=\u001b[0m \u001b[0;32mTrue\u001b[0m\u001b[0;34m\u001b[0m\u001b[0m\n\u001b[1;32m    297\u001b[0m             \u001b[0;32melse\u001b[0m\u001b[0;34m:\u001b[0m\u001b[0;34m\u001b[0m\u001b[0m\n",
      "\u001b[0;31mKeyboardInterrupt\u001b[0m: "
     ]
    }
   ],
   "source": [
    "n_found = 40\n",
    "# Big.\n",
    "# Given :MLP parameters\n",
    "# hidden_layer_sizes = [(10,), (25,), (50,), (100,)]\n",
    "# activation = ['identity', 'logistic', 'tanh', 'relu']\n",
    "# solver = ['lbfgs', 'sgd', 'adam'] #https://scikit-learn.org/stable/modules/generated/sklearn.neural_network.MLPClassifier.html\n",
    "# max_iter = [100, 200, 300]\n",
    "# learning_rate = ['constant', 'invscaling', 'adaptive']\n",
    "# alpha = [0.00005, 0.0001, 0.0002]\n",
    "\n",
    "#MLP parameters\n",
    "hidden_layer_sizes = [(50,), (100,)]\n",
    "activation = ['logistic', 'tanh', 'relu']\n",
    "solver = ['lbfgs', 'sgd', 'adam'] #https://scikit-learn.org/stable/modules/generated/sklearn.neural_network.MLPClassifier.html\n",
    "max_iter = [200, 300]\n",
    "learning_rate = ['constant', 'invscaling', 'adaptive']\n",
    "alpha = [0.00005, 0.0001, 0.0002]\n",
    "\n",
    "#PCA components\n",
    "n_components = n_found\n",
    "\n",
    "#cross-validation for f1_macro\n",
    "#cross-validation for f1_macro\n",
    "hyperparams_mlp = dict(pca__n_components=[n_components], MLP__hidden_layer_sizes=hidden_layer_sizes, MLP__activation=activation, MLP__solver=solver, MLP__max_iter=max_iter, MLP__learning_rate=learning_rate, MLP__alpha=alpha)\n",
    "durations, predictions_macro = optimizer(pipe_mlp, hyperparams_mlp, predictions_macro, X_train, X_test, dum_y_train, dum_y_test, labels_name, \"MLP (macro) optimization\", 'f1_macro', durations)\n",
    "\n",
    "#************************** README for the output ********************************\n",
    "# Note : We made a KeyboardInterrupt after the results.\n",
    "# After the results we interrupted the cell because it was executing the micro case that we moved \n",
    "# later in the cell below."
   ]
  },
  {
   "cell_type": "markdown",
   "metadata": {},
   "source": [
    "Αφού πλέον έτρεξε η διαδικασία ταξινόμησης του MLP, βελτιστοποιώντας ως προς f1-macro, για το πλήρες Dataset, πλέον έχουμε μια αρκετά καλύτερη εικόνα για τις βέλτιστες υπερπαραμέτρους του συγκεκριμένου ταξινομητή. Έτσι, μπορούμε να μειώσουμε τον αριθμό των υπερπαραμέτρων που εξετάζονται μέσω του GridSearch, για τη βελτιστοποίηση ως το f1-micro."
   ]
  },
  {
   "cell_type": "code",
   "execution_count": 99,
   "metadata": {},
   "outputs": [
    {
     "name": "stdout",
     "output_type": "stream",
     "text": [
      "0 0.20580848573919913\n",
      "1 0.06480446927374302\n",
      "2 0.21587172060079213\n",
      "3 0.6312756262105453\n",
      "4 0.5740570107754089\n",
      "5 0.6899078699796406\n"
     ]
    }
   ],
   "source": [
    "# Print out scores for the 6 classifiers.\n",
    "for i in range(6):\n",
    "    res_list = precision_recall_fscore_support(test_labels[i], predictions_macro[i], average='macro')\n",
    "    f1_score = res_list[2]\n",
    "    print(i, f1_score)"
   ]
  },
  {
   "cell_type": "code",
   "execution_count": 101,
   "metadata": {},
   "outputs": [],
   "source": [
    "# Save above's mlp macro best prediction.\n",
    "prediction_mlp_macro_backup = predictions_macro[5]\n",
    "# Save macro list\n",
    "prediction_macro_backup = predictions_macro"
   ]
  },
  {
   "cell_type": "code",
   "execution_count": 220,
   "metadata": {},
   "outputs": [
    {
     "name": "stdout",
     "output_type": "stream",
     "text": [
      "--------------------------------------------------------\n",
      "Classification Report using MLP (micro) optimization on the Dataset (30% test set)\n",
      "\n",
      "[[655   9   8  27   0]\n",
      " [ 27 389 223  17  49]\n",
      " [ 11 195 412  20  56]\n",
      " [  9  16  17 513 112]\n",
      " [  0  60  55 118 452]]\n",
      "              precision    recall  f1-score   support\n",
      "\n",
      "           1       0.93      0.94      0.94       699\n",
      "           2       0.58      0.55      0.57       705\n",
      "           3       0.58      0.59      0.58       694\n",
      "           4       0.74      0.77      0.75       667\n",
      "           5       0.68      0.66      0.67       685\n",
      "\n",
      "   micro avg       0.70      0.70      0.70      3450\n",
      "   macro avg       0.70      0.70      0.70      3450\n",
      "weighted avg       0.70      0.70      0.70      3450\n",
      "\n",
      "GridSearch Optimal parameters:\n",
      "\n",
      "{'MLP__activation': 'logistic', 'MLP__alpha': 0.0001, 'MLP__hidden_layer_sizes': (100,), 'MLP__learning_rate': 'invscaling', 'MLP__max_iter': 300, 'MLP__solver': 'adam', 'pca__n_components': 40}\n",
      "\n"
     ]
    },
    {
     "name": "stderr",
     "output_type": "stream",
     "text": [
      "/home/tyler/anaconda3/lib/python3.6/site-packages/sklearn/neural_network/multilayer_perceptron.py:562: ConvergenceWarning: Stochastic Optimizer: Maximum iterations (300) reached and the optimization hasn't converged yet.\n",
      "  % self.max_iter, ConvergenceWarning)\n"
     ]
    }
   ],
   "source": [
    "print('--------------------------------------------------------')\n",
    "hidden_layer_sizes = [(100,)]\n",
    "activation = ['logistic', 'tanh', 'relu']\n",
    "solver = ['lbfgs', 'sgd', 'adam'] #https://scikit-learn.org/stable/modules/generated/sklearn.neural_network.MLPClassifier.html\n",
    "max_iter = [300]\n",
    "learning_rate = ['constant', 'invscaling', 'adaptive']\n",
    "alpha = [0.0001, 0.0002]\n",
    "hyperparams_mlp = dict(pca__n_components=[40, 60], MLP__hidden_layer_sizes=hidden_layer_sizes, MLP__activation=activation, MLP__solver=solver, MLP__max_iter=max_iter, MLP__learning_rate=learning_rate, MLP__alpha=alpha)\n",
    "predictions_micro = optimizer(pipe_mlp, hyperparams_mlp, predictions_micro, X_train, X_test, dum_y_train, dum_y_test, labels_name, \"MLP (micro) optimization\", 'f1_micro')"
   ]
  },
  {
   "cell_type": "markdown",
   "metadata": {},
   "source": [
    "Τέλος μπορούμε να εκπαιδεύσουμε άλλη μια φορά τον ταξινομητή με τις βέλτιστες τιμές υπερπαραμέτρων που βρέθηκαν από την βελτιστοιποίηση ως προς f1-micro, έτσι ώστε να λάβουμε το βέλτιστο αποτέλεσμα."
   ]
  },
  {
   "cell_type": "code",
   "execution_count": 221,
   "metadata": {},
   "outputs": [
    {
     "name": "stdout",
     "output_type": "stream",
     "text": [
      "--------------------------------------------------------\n",
      "Classification Report using MLP (macro) optimization on the Dataset (30% test set)\n",
      "\n",
      "[[645  11   9  33   1]\n",
      " [ 32 351 257  12  53]\n",
      " [ 11 185 426  19  53]\n",
      " [  9  12  10 492 144]\n",
      " [  0  54  68 125 438]]\n",
      "              precision    recall  f1-score   support\n",
      "\n",
      "           1       0.93      0.92      0.92       699\n",
      "           2       0.57      0.50      0.53       705\n",
      "           3       0.55      0.61      0.58       694\n",
      "           4       0.72      0.74      0.73       667\n",
      "           5       0.64      0.64      0.64       685\n",
      "\n",
      "   micro avg       0.68      0.68      0.68      3450\n",
      "   macro avg       0.68      0.68      0.68      3450\n",
      "weighted avg       0.68      0.68      0.68      3450\n",
      "\n",
      "GridSearch Optimal parameters:\n",
      "\n",
      "{'MLP__activation': 'logistic', 'MLP__alpha': 0.0002, 'MLP__hidden_layer_sizes': (100,), 'MLP__learning_rate': 'constant', 'MLP__max_iter': 300, 'MLP__solver': 'adam', 'pca__n_components': 80}\n",
      "\n"
     ]
    },
    {
     "name": "stderr",
     "output_type": "stream",
     "text": [
      "/home/tyler/anaconda3/lib/python3.6/site-packages/sklearn/neural_network/multilayer_perceptron.py:562: ConvergenceWarning: Stochastic Optimizer: Maximum iterations (300) reached and the optimization hasn't converged yet.\n",
      "  % self.max_iter, ConvergenceWarning)\n"
     ]
    }
   ],
   "source": [
    "# Now try Opt on PCA with macro.\n",
    "# {'MLP__activation': 'logistic', \n",
    "# 'MLP__alpha': 0.0002, 'MLP__hidden_layer_sizes': (100,), \n",
    "# 'MLP__learning_rate': 'constant', 'MLP__max_iter': 300,\n",
    "# 'MLP__solver': 'adam', 'pca__n_components': X}\n",
    "print('--------------------------------------------------------')\n",
    "pred_opt_pca = []\n",
    "hidden_layer_sizes = [(100,)]\n",
    "activation = ['logistic']\n",
    "solver = ['adam'] #https://scikit-learn.org/stable/modules/generated/sklearn.neural_network.MLPClassifier.html\n",
    "max_iter = [300]\n",
    "learning_rate = ['constant']\n",
    "alpha = [ 0.0002]\n",
    "hyperparams_mlp = dict(pca__n_components=[20, 40, 60, 80, 100], MLP__hidden_layer_sizes=hidden_layer_sizes, MLP__activation=activation, MLP__solver=solver, MLP__max_iter=max_iter, MLP__learning_rate=learning_rate, MLP__alpha=alpha)\n",
    "pred_opt_pca = optimizer(pipe_mlp, hyperparams_mlp, pred_opt_pca, X_train, X_test, dum_y_train, dum_y_test, labels_name, \"MLP (macro) optimization\", 'f1_macro')\n"
   ]
  },
  {
   "cell_type": "code",
   "execution_count": 227,
   "metadata": {},
   "outputs": [
    {
     "name": "stdout",
     "output_type": "stream",
     "text": [
      "--------------------------------------------------------\n",
      "Classification Report using MLP (micro) optimization on the Dataset (30% test set)\n",
      "\n",
      "[[653   8  10  26   2]\n",
      " [ 22 388 231  15  49]\n",
      " [  6 209 419  17  43]\n",
      " [  6  23  10 497 131]\n",
      " [  0  56  66 114 449]]\n",
      "              precision    recall  f1-score   support\n",
      "\n",
      "           1       0.95      0.93      0.94       699\n",
      "           2       0.57      0.55      0.56       705\n",
      "           3       0.57      0.60      0.59       694\n",
      "           4       0.74      0.75      0.74       667\n",
      "           5       0.67      0.66      0.66       685\n",
      "\n",
      "   micro avg       0.70      0.70      0.70      3450\n",
      "   macro avg       0.70      0.70      0.70      3450\n",
      "weighted avg       0.70      0.70      0.70      3450\n",
      "\n",
      "GridSearch Optimal parameters:\n",
      "\n",
      "{'MLP__activation': 'logistic', 'MLP__alpha': 0.0002, 'MLP__hidden_layer_sizes': (100,), 'MLP__learning_rate': 'constant', 'MLP__max_iter': 300, 'MLP__solver': 'adam', 'pca__n_components': 60}\n",
      "\n"
     ]
    },
    {
     "name": "stderr",
     "output_type": "stream",
     "text": [
      "/home/tyler/anaconda3/lib/python3.6/site-packages/sklearn/neural_network/multilayer_perceptron.py:562: ConvergenceWarning: Stochastic Optimizer: Maximum iterations (300) reached and the optimization hasn't converged yet.\n",
      "  % self.max_iter, ConvergenceWarning)\n"
     ]
    }
   ],
   "source": [
    "# Now try Opt on PCA with micro.\n",
    "print('--------------------------------------------------------')\n",
    "pred_opt_pca_mic = []\n",
    "hidden_layer_sizes = [(25,), (50,), (100,)]\n",
    "activation = ['logistic', ]\n",
    "solver = ['adam'] #https://scikit-learn.org/stable/modules/generated/sklearn.neural_network.MLPClassifier.html\n",
    "max_iter = [300]\n",
    "learning_rate = ['constant']\n",
    "alpha = [0.0002]\n",
    "hyperparams_mlp = dict(pca__n_components=[40, 60, 80], MLP__hidden_layer_sizes=hidden_layer_sizes, MLP__activation=activation, MLP__solver=solver, MLP__max_iter=max_iter, MLP__learning_rate=learning_rate, MLP__alpha=alpha)\n",
    "pred_opt_pca_mic = optimizer(pipe_mlp, hyperparams_mlp, pred_opt_pca_mic, X_train, X_test, dum_y_train, dum_y_test, labels_name, \"MLP (micro) optimization\", 'f1_micro')"
   ]
  },
  {
   "cell_type": "markdown",
   "metadata": {},
   "source": [
    "Ακολούθως, παρουσιάζουμε τα αποτελέσματα που θα παίρναμε αν είχαμε παραλέιψει κάποιο στάδιο προεπεξεργασίας και, εν τέλει, κρατάμε το set με το μικρότερο σφάλμα. Είναι πιθανό κάποιο στάδιο προεπεξεργασίας, μπορεί να ήταν επιβλαβές για το μετέπειτα μοντέλο μας. Αρχικά θα τρέξουμε τους τρεις τελευταίους ταξινομητές, στο αρχικό Dataset, δηλαδή χωρίς καθόλου κανονικοποίηση των χαρακτηριστικών."
   ]
  },
  {
   "cell_type": "code",
   "execution_count": 222,
   "metadata": {},
   "outputs": [],
   "source": [
    "predictions_no_norm = []\n",
    "predictions_minmax = []\n",
    "\n",
    "# gnb = GaussianNB()\n",
    "# pipe_gnb = Pipeline(steps=[('pca', pca), ('gnb', gnb)], memory = 'tmp')\n",
    "\n",
    "# clf = MLPClassifier()\n",
    "# pipe_mlp = Pipeline(steps=[('pca', pca), ('MLP', clf)], memory = 'tmp')\n",
    "\n",
    "# clf = neighbors.KNeighborsClassifier()\n",
    "# pipe_kNN = Pipeline(steps=[('pca', pca), ('kNN', clf)], memory = 'tmp')"
   ]
  },
  {
   "cell_type": "code",
   "execution_count": 223,
   "metadata": {},
   "outputs": [
    {
     "name": "stdout",
     "output_type": "stream",
     "text": [
      "Classification Report using gnb (macro) optimization on the Dataset (30% test set)\n",
      "\n",
      "[[623  41   0  34   1]\n",
      " [ 31 150 456  29  39]\n",
      " [  3 109 534  24  24]\n",
      " [  3  37  21 471 135]\n",
      " [  0  14 160  71 440]]\n",
      "              precision    recall  f1-score   support\n",
      "\n",
      "           1       0.94      0.89      0.92       699\n",
      "           2       0.43      0.21      0.28       705\n",
      "           3       0.46      0.77      0.57       694\n",
      "           4       0.75      0.71      0.73       667\n",
      "           5       0.69      0.64      0.66       685\n",
      "\n",
      "   micro avg       0.64      0.64      0.64      3450\n",
      "   macro avg       0.65      0.64      0.63      3450\n",
      "weighted avg       0.65      0.64      0.63      3450\n",
      "\n",
      "GridSearch Optimal parameters:\n",
      "\n",
      "{'pca__n_components': 50}\n",
      "\n"
     ]
    },
    {
     "name": "stderr",
     "output_type": "stream",
     "text": [
      "/home/tyler/anaconda3/lib/python3.6/site-packages/imblearn/pipeline.py:197: UserWarning: Persisting input arguments took 3.14s to run.\n",
      "If this happens often in your code, it can cause performance problems \n",
      "(results will be correct in all cases). \n",
      "The reason for this is probably some large input arguments for a wrapped\n",
      " function (e.g. large strings).\n",
      "THIS IS A JOBLIB ISSUE. If you can, kindly provide the joblib's team with an\n",
      " example so that they can fix the problem.\n",
      "  **fit_params_steps[name])\n"
     ]
    },
    {
     "name": "stdout",
     "output_type": "stream",
     "text": [
      "Classification Report using kNN (macro) optimization on the Dataset (30% test set)\n",
      "\n",
      "[[585  49  39  23   3]\n",
      " [  4 427 149  32  93]\n",
      " [  2 147 382  31 132]\n",
      " [  0  72 100 281 214]\n",
      " [  0 144 171  71 299]]\n",
      "              precision    recall  f1-score   support\n",
      "\n",
      "           1       0.99      0.84      0.91       699\n",
      "           2       0.51      0.61      0.55       705\n",
      "           3       0.45      0.55      0.50       694\n",
      "           4       0.64      0.42      0.51       667\n",
      "           5       0.40      0.44      0.42       685\n",
      "\n",
      "   micro avg       0.57      0.57      0.57      3450\n",
      "   macro avg       0.60      0.57      0.58      3450\n",
      "weighted avg       0.60      0.57      0.58      3450\n",
      "\n",
      "GridSearch Optimal parameters:\n",
      "\n",
      "{'kNN__metric': 'euclidean', 'kNN__n_neighbors': 1, 'kNN__weights': 'uniform', 'pca__n_components': 20}\n",
      "\n"
     ]
    },
    {
     "name": "stderr",
     "output_type": "stream",
     "text": [
      "/home/tyler/anaconda3/lib/python3.6/site-packages/imblearn/pipeline.py:197: UserWarning: Persisting input arguments took 3.26s to run.\n",
      "If this happens often in your code, it can cause performance problems \n",
      "(results will be correct in all cases). \n",
      "The reason for this is probably some large input arguments for a wrapped\n",
      " function (e.g. large strings).\n",
      "THIS IS A JOBLIB ISSUE. If you can, kindly provide the joblib's team with an\n",
      " example so that they can fix the problem.\n",
      "  **fit_params_steps[name])\n"
     ]
    },
    {
     "name": "stdout",
     "output_type": "stream",
     "text": [
      "Classification Report using MLP (micro) optimization (small) on the Dataset (30% test set)\n",
      "\n",
      "[[340  62  43 181  73]\n",
      " [ 76 244 186  88 111]\n",
      " [ 49 199 241  75 130]\n",
      " [160 109  88 170 140]\n",
      " [ 61 152 180 126 166]]\n",
      "              precision    recall  f1-score   support\n",
      "\n",
      "           1       0.50      0.49      0.49       699\n",
      "           2       0.32      0.35      0.33       705\n",
      "           3       0.33      0.35      0.34       694\n",
      "           4       0.27      0.25      0.26       667\n",
      "           5       0.27      0.24      0.25       685\n",
      "\n",
      "   micro avg       0.34      0.34      0.34      3450\n",
      "   macro avg       0.33      0.34      0.33      3450\n",
      "weighted avg       0.34      0.34      0.34      3450\n",
      "\n",
      "GridSearch Optimal parameters:\n",
      "\n",
      "{'MLP__activation': 'logistic', 'MLP__alpha': 0.0002, 'MLP__hidden_layer_sizes': (100,), 'MLP__learning_rate': 'constant', 'MLP__max_iter': 300, 'MLP__solver': 'adam', 'pca__n_components': 40}\n",
      "\n"
     ]
    },
    {
     "name": "stderr",
     "output_type": "stream",
     "text": [
      "/home/tyler/anaconda3/lib/python3.6/site-packages/sklearn/neural_network/multilayer_perceptron.py:562: ConvergenceWarning: Stochastic Optimizer: Maximum iterations (300) reached and the optimization hasn't converged yet.\n",
      "  % self.max_iter, ConvergenceWarning)\n"
     ]
    }
   ],
   "source": [
    "# Stage no normalization.\n",
    "# gnb\n",
    "predictions_no_norm = optimizer(pipe_gnb, hyperparams_gnb, predictions_no_norm, X_train_init, X_test_init, dum_y_train, dum_y_test, labels_name, \"gnb (macro) optimization\", 'f1_macro')\n",
    "\n",
    "# knn\n",
    "predictions_no_norm = optimizer(pipe_kNN, hyperparams_kNN, predictions_no_norm, X_train_init, X_test_init, dum_y_train, dum_y_test, labels_name, \"kNN (macro) optimization\", 'f1_macro')\n",
    "\n",
    "# mlp with reduced hyperparams.\n",
    "hidden_layer_sizes = [(100,)]\n",
    "activation = ['logistic' ]\n",
    "solver = ['adam'] #https://scikit-learn.org/stable/modules/generated/sklearn.neural_network.MLPClassifier.html\n",
    "max_iter = [300]\n",
    "learning_rate = ['constant', 'adaptive']\n",
    "alpha = [0.0002]\n",
    "hyperparams_mlp = dict(pca__n_components=[40, 60], MLP__hidden_layer_sizes=hidden_layer_sizes, MLP__activation=activation, MLP__solver=solver, MLP__max_iter=max_iter, MLP__learning_rate=learning_rate, MLP__alpha=alpha)\n",
    "predictions_no_norm = optimizer(pipe_mlp, hyperparams_mlp, predictions_no_norm, X_train_init, X_test_init, dum_y_train, dum_y_test, labels_name, \"MLP (micro) optimization\", 'f1_macro')\n"
   ]
  },
  {
   "cell_type": "markdown",
   "metadata": {},
   "source": [
    "Στη συνέχεια εξετάζουμε την επίδοση των ταξινομητών, αν το Dataset είχε κανονικοποιηθεί με το Minmax scaler."
   ]
  },
  {
   "cell_type": "code",
   "execution_count": 226,
   "metadata": {},
   "outputs": [
    {
     "name": "stdout",
     "output_type": "stream",
     "text": [
      "Classification Report using gnb (macro) optimization on the Dataset (30% test set)\n",
      "\n",
      "[[600  45   0  53   1]\n",
      " [ 29 139 453  34  50]\n",
      " [  3 101 536  25  29]\n",
      " [  7  48  25 448 139]\n",
      " [  0  22 153  63 447]]\n",
      "              precision    recall  f1-score   support\n",
      "\n",
      "           1       0.94      0.86      0.90       699\n",
      "           2       0.39      0.20      0.26       705\n",
      "           3       0.46      0.77      0.58       694\n",
      "           4       0.72      0.67      0.69       667\n",
      "           5       0.67      0.65      0.66       685\n",
      "\n",
      "   micro avg       0.63      0.63      0.63      3450\n",
      "   macro avg       0.64      0.63      0.62      3450\n",
      "weighted avg       0.63      0.63      0.62      3450\n",
      "\n",
      "GridSearch Optimal parameters:\n",
      "\n",
      "{'pca__n_components': 50}\n",
      "\n",
      "Classification Report using kNN (macro) optimization on the Dataset (30% test set)\n",
      "\n",
      "[[553  61  42  29  14]\n",
      " [  0 458 179   8  60]\n",
      " [  1 180 418  11  84]\n",
      " [  0  78 105 281 203]\n",
      " [  0 189 216  40 240]]\n",
      "              precision    recall  f1-score   support\n",
      "\n",
      "           1       1.00      0.79      0.88       699\n",
      "           2       0.47      0.65      0.55       705\n",
      "           3       0.44      0.60      0.51       694\n",
      "           4       0.76      0.42      0.54       667\n",
      "           5       0.40      0.35      0.37       685\n",
      "\n",
      "   micro avg       0.57      0.57      0.57      3450\n",
      "   macro avg       0.61      0.56      0.57      3450\n",
      "weighted avg       0.61      0.57      0.57      3450\n",
      "\n",
      "GridSearch Optimal parameters:\n",
      "\n",
      "{'kNN__metric': 'euclidean', 'kNN__n_neighbors': 1, 'kNN__weights': 'uniform', 'pca__n_components': 30}\n",
      "\n",
      "Classification Report using MLP (micro) optimization (small) on the Dataset (30% test set)\n",
      "\n",
      "[[601  42  21  27   8]\n",
      " [ 39  60 124 196 286]\n",
      " [  6  37 151 196 304]\n",
      " [  0  18  91 276 282]\n",
      " [  0   5  72 208 400]]\n",
      "              precision    recall  f1-score   support\n",
      "\n",
      "           1       0.93      0.86      0.89       699\n",
      "           2       0.37      0.09      0.14       705\n",
      "           3       0.33      0.22      0.26       694\n",
      "           4       0.31      0.41      0.35       667\n",
      "           5       0.31      0.58      0.41       685\n",
      "\n",
      "   micro avg       0.43      0.43      0.43      3450\n",
      "   macro avg       0.45      0.43      0.41      3450\n",
      "weighted avg       0.45      0.43      0.41      3450\n",
      "\n",
      "GridSearch Optimal parameters:\n",
      "\n",
      "{'MLP__activation': 'logistic', 'MLP__alpha': 0.0002, 'MLP__hidden_layer_sizes': (100,), 'MLP__learning_rate': 'constant', 'MLP__max_iter': 300, 'MLP__solver': 'adam', 'pca__n_components': 40}\n",
      "\n"
     ]
    },
    {
     "name": "stderr",
     "output_type": "stream",
     "text": [
      "/home/tyler/anaconda3/lib/python3.6/site-packages/sklearn/neural_network/multilayer_perceptron.py:562: ConvergenceWarning: Stochastic Optimizer: Maximum iterations (300) reached and the optimization hasn't converged yet.\n",
      "  % self.max_iter, ConvergenceWarning)\n"
     ]
    }
   ],
   "source": [
    "predictions_minmax = []\n",
    "\n",
    "# Stage minmax normalization.\n",
    "#gnb\n",
    "predictions_minmax = optimizer(pipe_gnb, hyperparams_gnb, predictions_minmax, X_train_minmax, X_test_minmax, dum_y_train, dum_y_test, labels_name, \"gnb (macro) optimization\", 'f1_macro')\n",
    "\n",
    "# knn\n",
    "predictions_minmax = optimizer(pipe_kNN, hyperparams_kNN, predictions_minmax, X_train_minmax, X_test_minmax, dum_y_train, dum_y_test, labels_name, \"kNN (macro) optimization\", 'f1_macro')\n",
    "\n",
    "# mlp with reduced hyperparams.\n",
    "predictions_minmax = optimizer(pipe_mlp, hyperparams_mlp, predictions_minmax, X_train_minmax, X_test_minmax, dum_y_train, dum_y_test, labels_name, \"MLP (micro) optimization\", 'f1_macro')\n"
   ]
  },
  {
   "cell_type": "code",
   "execution_count": 252,
   "metadata": {},
   "outputs": [
    {
     "name": "stdout",
     "output_type": "stream",
     "text": [
      "[1. 1. 1. 1. 1. 1. 1. 1. 1. 1. 1. 1. 1. 1. 1. 1. 1. 1. 1. 1. 1. 1. 1. 1.\n",
      " 1. 1. 1. 1. 1. 1. 1. 1. 1. 1. 1. 1. 1. 1. 1. 1. 1. 1. 1. 1. 1. 1. 1. 1.\n",
      " 1. 1. 1. 1. 1. 1. 1. 1. 1. 1. 1. 1. 1. 1. 1. 1. 1. 1. 1. 1. 1. 1. 1. 1.\n",
      " 1. 1. 1. 1. 1. 1. 1. 1. 1. 1. 1. 1. 1. 1. 1. 1. 1. 1. 1. 1. 1. 1. 1. 1.\n",
      " 1. 1. 1. 1. 1. 1. 1. 1. 1. 1. 1. 1. 1. 1. 1. 1. 1. 1. 1. 1. 1. 1. 1. 1.\n",
      " 1. 1. 1. 1. 1. 1. 1. 1. 1. 1. 1. 1. 1. 1. 1. 1. 1. 1. 1. 1. 1. 1. 1. 1.\n",
      " 1. 1. 1. 1. 1. 1. 1. 1. 1. 1. 1. 1. 1. 1. 1. 1. 1. 1. 1. 1. 1. 1. 1. 1.\n",
      " 1. 1. 1. 1. 1. 1. 1. 1. 1. 1.]\n"
     ]
    }
   ],
   "source": [
    "train_variance = X_train.var(axis=0)\n",
    "print(train_variance)"
   ]
  },
  {
   "cell_type": "markdown",
   "metadata": {},
   "source": [
    "<div class=\"alert alert-block alert-info\">\n",
    "<b>Question Δ2 : </b> Για το τελικό fit του κάθε ταξινομητή στο σύνολο του training set και για το predict στο test set εκτυπώστε πίνακες με τους χρόνους εκτέλεσης. \n",
    "</div>\n",
    "\n",
    "Παρακάτω, εκτυπώνουμε ένα πίνακα με τους χρόνους εκτέλεσης για τους βελτιστοποιημένους ταξινομητές."
   ]
  },
  {
   "cell_type": "code",
   "execution_count": 50,
   "metadata": {},
   "outputs": [
    {
     "name": "stdout",
     "output_type": "stream",
     "text": [
      "+------------------+------------+\n",
      "|    Classifier    | Time (sec) |\n",
      "+------------------+------------+\n",
      "|    DC Uniform    |   0.001    |\n",
      "+------------------+------------+\n",
      "| DC Most Frequent |    0.0     |\n",
      "+------------------+------------+\n",
      "|  DC Stratified   |   0.001    |\n",
      "+------------------+------------+\n",
      "|     opt-GNB      |   14.507   |\n",
      "+------------------+------------+\n",
      "|     opt-kNN      |  481.271   |\n",
      "+------------------+------------+\n",
      "|     opt-MLP      | 10998.928  |\n",
      "+------------------+------------+\n"
     ]
    }
   ],
   "source": [
    "#Print times of optimization.\n",
    "objects = ['DC Uniform', 'DC Most Frequent', 'DC Stratified', 'opt-GNB', 'opt-kNN', 'opt-MLP']\n",
    "table = BeautifulTable()\n",
    "table.column_headers = [\"Classifier\", \"Time (sec)\"]\n",
    "\n",
    "for time, clf in zip(durations, objects):\n",
    "    table.append_row([clf, time])\n",
    "    \n",
    "print(table)"
   ]
  },
  {
   "cell_type": "markdown",
   "metadata": {},
   "source": [
    "##### Section 4.5 : Result Plotting"
   ]
  },
  {
   "cell_type": "markdown",
   "metadata": {},
   "source": [
    "<div class=\"alert alert-block alert-info\">\n",
    "<b>Question Δ3 : </b>  Για κάθε averaged metric, εκτυπώστε bar plot σύγκρισης με τις τιμές του συγκεκριμένου f1 για όλους τους classifiers. \n",
    "</div>"
   ]
  },
  {
   "cell_type": "code",
   "execution_count": 118,
   "metadata": {},
   "outputs": [],
   "source": [
    "def plot_f1_opt(predictions, test_labels, objects, metric):\n",
    "    n_groups = 1 \n",
    "    colors = ['b']\n",
    "    plt.figure(figsize = (13,6))\n",
    "    y_pos = np.arange(len(objects))\n",
    "    performance = []\n",
    "    for i, pred in enumerate(predictions):\n",
    "        res_list = precision_recall_fscore_support(test_labels[i], pred, average=metric)\n",
    "        f1_score = res_list[2]\n",
    "        performance.append(f1_score)\n",
    "    plt.bar(y_pos, performance, align='center', alpha=0.5)\n",
    "    plt.xticks(y_pos, objects)\n",
    "    plt.xlabel('Classifier')\n",
    "    plt.ylabel(metric+' f1_score')\n",
    "    plt.title(metric + ' f1_score metrics for the ' + str(len(predictions)) +' optimized classifiers.')\n",
    "    plt.show()"
   ]
  },
  {
   "cell_type": "code",
   "execution_count": 122,
   "metadata": {},
   "outputs": [
    {
     "name": "stdout",
     "output_type": "stream",
     "text": [
      "----------Macro f1-score analysis----------\n",
      "0 0.20580848573919913\n",
      "1 0.06480446927374302\n",
      "2 0.21587172060079213\n",
      "3 0.6312756262105453\n",
      "4 0.5740570107754089\n",
      "5 0.6899078699796406\n"
     ]
    },
    {
     "name": "stderr",
     "output_type": "stream",
     "text": [
      "/home/tyler/anaconda3/lib/python3.6/site-packages/sklearn/metrics/classification.py:1143: UndefinedMetricWarning: Precision and F-score are ill-defined and being set to 0.0 in labels with no predicted samples.\n",
      "  'precision', 'predicted', average, warn_for)\n"
     ]
    },
    {
     "data": {
      "image/png": "[encoded data removed]",
      "text/plain": [
       "<Figure size 936x432 with 1 Axes>"
      ]
     },
     "metadata": {},
     "output_type": "display_data"
    }
   ],
   "source": [
    "print('----------Macro f1-score analysis----------')\n",
    "test_labels = [dum_y_test, dum_y_test, dum_y_test, dum_y_test, dum_y_test, dum_y_test]\n",
    "\n",
    "for i in range(len(test_labels)):\n",
    "    res_list = precision_recall_fscore_support(test_labels[i], predictions_macro[i], average='macro')\n",
    "    f1_score = res_list[2]\n",
    "    print(i, f1_score)\n",
    "\n",
    "objects = ['DC Uniform', 'DC Most Frequent', 'DC Stratified', 'opt-GNB', 'opt-kNN', 'opt-MLP']\n",
    "plot_f1_opt(predictions_macro, test_labels, objects, 'macro')\n"
   ]
  },
  {
   "cell_type": "code",
   "execution_count": 228,
   "metadata": {},
   "outputs": [
    {
     "name": "stdout",
     "output_type": "stream",
     "text": [
      "----------Micro f1-score analysis----------\n"
     ]
    },
    {
     "data": {
      "image/png": "[encoded data removed]",
      "text/plain": [
       "<Figure size 936x432 with 1 Axes>"
      ]
     },
     "metadata": {},
     "output_type": "display_data"
    }
   ],
   "source": [
    "print('----------Micro f1-score analysis----------')\n",
    "test_labels = [dum_y_test, dum_y_test, dum_y_test, dum_y_test, dum_y_test, dum_y_test]\n",
    "\n",
    "objects = ['DC Uniform', 'DC Most Frequent', 'DC Stratified', 'opt-GNB', 'opt-kNN', 'opt-MLP']\n",
    "plot_f1_opt(predictions_micro, test_labels, objects, 'micro')"
   ]
  },
  {
   "cell_type": "markdown",
   "metadata": {},
   "source": [
    "<div class=\"alert alert-block alert-info\">\n",
    "<b>Question Δ4 : </b> Τυπώστε πίνακα με τη μεταβολή της επίδοσης των ταξινομητών πριν και μετά τη βελτιστοποίησή τους. \n",
    "</div>"
   ]
  },
  {
   "cell_type": "code",
   "execution_count": 391,
   "metadata": {},
   "outputs": [
    {
     "name": "stdout",
     "output_type": "stream",
     "text": [
      "+------------+---------------+------------------------+------------------------+\n",
      "| Classifier | Not opt Score |   f1-macro opt Score   |   f1-micro opt Score   |\n",
      "+------------+---------------+------------------------+------------------------+\n",
      "|   DC-Un    |     0.204     |         0.206          |         0.206          |\n",
      "+------------+---------------+------------------------+------------------------+\n",
      "|   DC-MF    |     0.193     |         0.193          |         0.193          |\n",
      "+------------+---------------+------------------------+------------------------+\n",
      "|   DC-Str   |     0.197     |         0.216          |         0.216          |\n",
      "+------------+---------------+------------------------+------------------------+\n",
      "|    GNB     |     0.441     |         0.641          |         0.641          |\n",
      "+------------+---------------+------------------------+------------------------+\n",
      "|    kNN     |     0.464     |         0.572          |         0.572          |\n",
      "+------------+---------------+------------------------+------------------------+\n",
      "|    MLP     |     0.677     |          0.69          |         0.702          |\n",
      "+------------+---------------+------------------------+------------------------+\n"
     ]
    }
   ],
   "source": [
    "#Old VS New.\n",
    "from beautifultable import BeautifulTable\n",
    "from sklearn.metrics import accuracy_score\n",
    "table = BeautifulTable()\n",
    "table.column_headers = [\"Classifier\", \"Not opt Score\", \"f1-macro opt Score\", \"f1-micro opt Score\"]\n",
    "\n",
    "# Not optimized.\n",
    "objects = ('DC-Un', 'DC-MF', 'DC-Str', 'GNB', 'kNN', 'MLP')\n",
    "#preds = Baseline_predictions\n",
    "\n",
    "test_labels_base = [dum_y_test, dum_y_test, dum_y_test, dum_y_test, dum_y_test, dum_y_test]\n",
    "test_labels = [dum_y_test, dum_y_test, dum_y_test, dum_y_test, dum_y_test, dum_y_test]\n",
    "\n",
    "\n",
    "\n",
    "for i,clf in enumerate(objects):\n",
    "    table.append_row([clf, accuracy_score(test_labels_base[i], Baseline_predictions[i]), accuracy_score(test_labels[i], predictions_macro[i]), accuracy_score(test_labels[i], predictions_micro[i])])\n",
    "\n",
    "print(table)\n"
   ]
  },
  {
   "cell_type": "code",
   "execution_count": 35,
   "metadata": {},
   "outputs": [
    {
     "name": "stdout",
     "output_type": "stream",
     "text": [
      "+------------+---------------+------------------------+------------------------+\n",
      "| Classifier | No norm Score |   Scaler norm Score    |   Minmax norm Score    |\n",
      "+------------+---------------+------------------------+------------------------+\n",
      "|    GNB     |     0.643     |         0.631          |         0.629          |\n",
      "+------------+---------------+------------------------+------------------------+\n",
      "|    kNN     |     0.572     |         0.574          |         0.565          |\n",
      "+------------+---------------+------------------------+------------------------+\n",
      "|    MLP     |     0.337     |         0.713          |         0.431          |\n",
      "+------------+---------------+------------------------+------------------------+\n"
     ]
    }
   ],
   "source": [
    "# Comparing the accuracy with no normalization, with scale and with minmax\n",
    "objects = ('GNB', 'kNN', 'MLP')\n",
    "\n",
    "table = BeautifulTable()\n",
    "table.column_headers = [\"Classifier\", \"No norm Score\", \"Scaler norm Score\", \"Minmax norm Score\"]\n",
    "\n",
    "for i,clf in enumerate(objects):\n",
    "    table.append_row([clf, accuracy_score(test_labels[i+3], predictions_no_norm[i]), accuracy_score(test_labels[i+3], predictions_macro[i+3]), accuracy_score(test_labels[i+3], predictions_minmax[i])])\n",
    "    \n",
    "print(table)"
   ]
  },
  {
   "cell_type": "markdown",
   "metadata": {},
   "source": [
    "<div class=\"alert alert-block alert-info\">\n",
    "<b>Question Δ5 : </b>  Σχολιάστε τα αποτελέσματα των plots και των τιμών precision, recall, f1 των πινάκων σύγχυσης, τη μεταβολή της απόδοσης και τους χρόνους εκτέλεσης. \n",
    "</div>"
   ]
  },
  {
   "cell_type": "markdown",
   "metadata": {},
   "source": [
    "Παρατηρώντας τις αποδόσεις των ταξινομητών συνολικά, βλέπουμε ότι το μέγιστο f1-score που μπορούμε να πετύχουμε είναι 70% και αυτό με τη χρήση βελτιστοποιημένου MLP. Από μια γενική ματιά, το αποτέλεσμα αυτό δεν είναι ιδιαίτερα καλό αλλά ούτε και κακό, δεδομένου ότι οι κατηγορίες προς ταξινόμηση είναι 5 και ένας Dummy ταξινομητής θα είχε απόδοση 20%.\n",
    "\n",
    "Με μια πιο λεπτομερή ματιά όμως στο Dataset, βλέπουμε ότι η 1η κλάση αφορά άτομα με επιληψία ενώ οι κλάσεις 2,3,4,5 όχι και ότι στη βιβλιογραφία το συγκεκριμένο Dataset ανδιμετωπίζεται ως Binary με τη μια κλάση να είναι αυτή της επιληψίας και τις 2,3,4,5 να αποτελούν τη δεύτερη ενιαία κατηγορία. Αντιμετωπίζοντας τα παραπάνω αποτελέσματα σαν το Dataset να ήταν Binary, από τα Clasification report και τα confusion matrix, βλέπουμε ότι όλοι οι ταξινομητές έχουν σημαντικά μεγαλύτερη επιτυχία στις στην ταξινόμηση της 1ης κλάσης, με τον MLP να φτάνει σκορ μέχρι και 94% κάνοντας την συγκεκριμένη ταξινόμηση αρκετά επιτυχή στο Binary πρόβλημα, που στη πράξη είναι και το πιο σημαντικό.\n",
    "\n",
    "Έτσι το 70% σκορ στις 5 κλάσεις μπορεί να θεωρηθεί καλό, μιας και οι λοιπές κατηγορίες 2,3,4,5 είναι δυσδιάκριτες μεταξύ τους και δίνεται περισσότερη έμφαση στη περίπτωση όπου στο Dataset κυριαρχούν οι 2 κλάσεις.\n",
    "\n",
    "- Για τους χρόνους εκτέλεσης:\n",
    "\n",
    "Από τον αντίστοιχο πίνακα, βλέπουμε ότι η ταξινόμηση του GNB είναι σχετικά γρήγορη, ότι μετά ακολουθεί ο kNN και με μεγάλη διαφορά τον μεγαλύτερο χρόνο εκτέλεσης τον έχει ο MLP. Ο kNN είναι λογικό να απαιτεί περισσότερο χρόνο από τον GNB μιας και πρέπει να βρεθεί το βέλτιστο k και άλλες παράμετροι, ενώ η μόνη παράμετρος που βελτιστοποιεί ο GNB είναι τα Components του PCA. Από την άλλη, παρατηρούμε ότι η εκπαίδευση του MLP απαιτεί σημαντικά αυξημένο χρόνο σε σχέση με τους υπόλοιπους ταξινομητές. Αυτό οφείλεται από τη μια στον αυξημένο αριθμό υπερπαραμέτρων που θα πρέπει να βελτιστοποιηθούν και από την άλλη από την ίδια τη φύση του MLP που θα πρέπει σε κάθε επανάληψη να ενημερωθούν μεγάλος αριθμός βαρών, πολλαπλάσιο των νευρώνων που υπάρχουν στο hidden layer, διαδικασία η οποία είναι χρονοβόρα.\n",
    "\n",
    "- Για την μεταβολή της απόδοσης:\n",
    "\n",
    "Σύμφωνα με τον παραπάνω πίνακα, παρατηρούμε μεταβολή της απόδοσης από 44.1% (χωρίς βελτιστοιποίηση) σε 64.1% (με βελτιστοποίηση υπερπαραμέτρων) για τον GNB, από 46.4% σε 57.2% για τον kNN, ενώ λιγότερο από 3% είναι η βελτίωση για τον MLP. Η βελτίωση είναι αρκετά σημαντική για τους δύο πρώτους ταξινομητές στους οποίους φαίνεται να έπαιξε μεγάλο ρόλο η μείωση της διάταστασης μέσω PCA και η εύρεση του βέλτιστου k για τον kNN. Αντίθετα η βελτίωση του MLP είναι μικρή. Αυτό αφενός οφείλεται στο ότι η μείωση διαστάσεων με PCA δεν αλλάζει ιδιαίτερα την απόδοση του ταξινομητή (σίγουρα μειώνει τον χρόνο εκτέλεσης του) ενώ οι περισσότερες default τιμές του ταξινομητή φαίνεται να είναι και οι βέλτιστες.\n",
    "\n",
    "- Προεπεξεργασία των δεδομένων και κανονικοποίηση:\n",
    "\n",
    "Αρχικά να αναφερθεί ότι στο στάδιο της προεπεξεργασίας των δεδομένων, δεν πραγματοποιήθηκε μείωση της διαστατικότητας μέσω Variance Threshold. Το στάδιο αυτό παραλείφθηκε διότι όλα τα χαρακτηριστικά του Dataset είναι τιμές στον χρόνο ενός εγκεφαλογραφήματος, δηλαδή όλα τα χαρακτηριστικά αναπαριστούν το ίδιο μέγεθος σε διαφορετικές χρονικές στιγμές και έτσι δεν περιμένουμε μεγάλες διακυμάνσεις στη διακύμανση μεταξύ των χαρακτηριστικών, έτσι ώστε να αφαιρεθούν.\n",
    "\n",
    "Τώρα σε ότι αφορά την κανονικοποίηση ή μη των χαρακτηριστικών, βλέπουμε ότι η διαφορά στην απόδοση για το GNB και kNN είναι αμελητέα και για τη κανονικοποίηση minmax αλλά και για τα αρχικά μη κανονικοποιημένα δεδομένα. Αυτό οφείλεται στο ότι στα αρχικά δεδομένα όλα τα features βρίσκονται στο ίδιο εύρος τιμών και έχουν την ίδια συμπεριφορά (διότι όπως αναφέρθηκε αναπαριστούν το ίδιο πράγμα), έτσι η εύρεση πχ του κοντινότερου γείτονα για τον kNN θα δίνει πάντοτε το ίδιο αποτέλεσμα διότι ναι μεν οι αποστάσεις των γειτόνων θα αλλάξουν με τη κανονικοποίηση, αλλά ο κοντινότερος γείτονας θα παραμείνει ο ίδιος.\n",
    "\n",
    "Από την άλλη, ο MLP στα μη κανονικοποιημένα δεδομένα και στη κανονικοποίηση minmax αποδίδει πολύ χειρότερα σε σχέση με τη κανονικοποίηση του Variance, ρίχνοντας την απόδοση κατά 25% περίπου. Αυτό οφείλεται στο ότι οι τιμές των χαρακτηριστικών πχ στα μη κανονικοποιημένα δεδομένα μπορεί να είναι είτε πολύ μεγάλα είτε πολύ μικρά με αποτέλεσμα να μεταβάλει τις τιμές των βαρών με τρόπο ώστε να επιφέρουν κακή δυνατότητα ταξινόμησης. \n",
    "\n",
    "-  Διαδικασία επιλογής υπερπαραμέτρων MLP :\n",
    "\n",
    "Πέρα από όσα έχουμε περιγράψει στις ενότητες με τον κώδικα του MLP, θα θέλαμε να αναφερθούμε στην επιλογή μας να αποκλείσουμε εξ' αρχής (κυρίως για υπολογιστικούς σκοπούς) κάποιες τιμές παραμέτρων. Έτσι, τρέχοντας δοκιμαστικά μικρότερα MLP παραδείγματα παρατηρήσαμε μία εργοδικότητα στην μη εμφάνιση της τιμής 100 στο max_iter και στο identity του activation function. Επίσης, μικρός αριθμός hidden layers (25, 50) ήταν πολύ σπάνιος και έτσι αποφασίσαμε να αποκλείσουμε τις περιπτώσεις αυτές, μειώνοντας το μέγεθος του search space. Φυσικά, η αναζήτηση μας δεν είναι εξαντλητική και η λύση λογικά δεν έχει βρει το ολικά βέλτιστο. Όμως, έχει βρει το βέλτιστο σε ένα μεγάλο σύνολο τιμών και σε ικανοποιητικό υπολογιστικά χρόνο (tradeoff μεταξύ επίδοσης-χρόνου).\n",
    "\n",
    "\n",
    "<table width=\\\"85%\\\">\n",
    "   <caption>Πίνακας : Στάδια search space για MLP.</caption>\n",
    "   <thead>\n",
    "   <tr>\n",
    "       <th>Searching hyperparameters for :</th>\n",
    "       <th>Search Space</th>\n",
    "       <th>Optimal</th>\n",
    "   </tr>\n",
    "   </thead>\n",
    "   <tbody>\n",
    "       <tr>\n",
    "           <td style=\\\"background-color:#F2F4F7\\\" rowspan=\\\"2\\\">Small sampled dataset with Macro</td>\n",
    "           <td style=\\\"background-color:#F2F4F7\\\" rowspan=\\\"3\\\">\n",
    "               hidden_layer_sizes = [(10,), (25,), (100,)], \n",
    "               activation = ['identity', 'tanh', 'relu'],   \n",
    "               solver = ['lbfgs', 'sgd'],   \n",
    "               max_iter = [300],   \n",
    "               learning_rate = ['invscaling', 'adaptive'],  \n",
    "               alpha = [0.00005, 0.0001], n_components = [40, 60, 80]\n",
    "          </td>\n",
    "    \n",
    "           <td style=\\\"background-color:#F2F4F7\\\" rowspan=\\\"2\\\">\n",
    "           {'MLP__activation': 'relu', 'MLP__alpha': 5e-05, 'MLP__hidden_layer_sizes': (100,), 'MLP__learning_rate': 'adaptive', 'MLP__max_iter': 300, 'MLP__solver': 'sgd', 'pca__n_components': 40}</td>  \n",
    "       </tr>      \n",
    "       \n",
    "       <tr>\n",
    "           <td style=\\\"background-color:#F2F4F7\\\" rowspan=\\\"2\\\">Small sampled dataset with Micro</td>\n",
    "           <td style=\\\"background-color:#F2F4F7\\\" rowspan=\\\"3\\\">\n",
    "               hidden_layer_sizes = [(10,), (25,), (100,)],\n",
    "    activation = ['identity', 'tanh', 'relu'],\n",
    "    solver = ['lbfgs', 'sgd'] ,\n",
    "    max_iter = [300],\n",
    "    learning_rate = ['invscaling', 'adaptive'],\n",
    "    alpha = [0.00005, 0.0001],\n",
    "    n_components = [40, 60, 80]\n",
    "          </td>\n",
    "    \n",
    "           <td style=\\\"background-color:#F2F4F7\\\" rowspan=\\\"2\\\">\n",
    "           {'MLP__activation': 'relu', 'MLP__alpha': 5e-05, 'MLP__hidden_layer_sizes': (100,), 'MLP__learning_rate': 'adaptive', 'MLP__max_iter': 300, 'MLP__solver': 'sgd', 'pca__n_components': 40}</td>  \n",
    "       </tr>\n",
    "   \n",
    "   \n",
    "   <tr>\n",
    "           <td style=\\\"background-color:#F2F4F7\\\" rowspan=\\\"2\\\">Big dataset with Macro</td>\n",
    "           <td style=\\\"background-color:#F2F4F7\\\" rowspan=\\\"3\\\">\n",
    "               n_components = [40],\n",
    "    hidden_layer_sizes = [(50,), (100,)],\n",
    "    activation = ['logistic', 'tanh', 'relu'],\n",
    "    solver = ['lbfgs', 'sgd', 'adam'] ,\n",
    "    max_iter = [200, 300],\n",
    "    learning_rate = ['constant', 'invscaling', 'adaptive'],\n",
    "    alpha = [0.00005, 0.0001, 0.0002]\n",
    "          </td>\n",
    "    \n",
    "           <td style=\\\"background-color:#F2F4F7\\\" rowspan=\\\"2\\\">\n",
    "           {'MLP_activation': 'logistic', 'MLP__alpha': 0.0002, 'MLP__hidden_layer_sizes': (100,), 'MLP__learning_rate': 'constant', 'MLP__max_iter': 300, 'MLP__solver': 'adam', 'pca__n_components': 40}</td>  \n",
    "       </tr>\n",
    "   \n",
    "      <tr>\n",
    "           <td style=\\\"background-color:#F2F4F7\\\" rowspan=\\\"2\\\"> Big dataset with Micro</td>\n",
    "           <td style=\\\"background-color:#F2F4F7\\\" rowspan=\\\"3\\\">\n",
    "               hidden_layer_sizes = [(100,)],\n",
    "    activation = ['logistic', 'tanh', 'relu'],\n",
    "    solver = ['lbfgs', 'sgd', 'adam'] ,\n",
    "    max_iter = [300],\n",
    "    learning_rate = ['constant', 'invscaling', 'adaptive'],\n",
    "    alpha = [0.0001, 0.0002]\n",
    "          </td>\n",
    "    \n",
    "           <td style=\\\"background-color:#F2F4F7\\\" rowspan=\\\"2\\\">\n",
    "           {'MLP__activation': 'logistic', 'MLP__alpha': 0.0001, 'MLP__hidden_layer_sizes': (100,), 'MLP__learning_rate': 'invscaling', 'MLP__max_iter': 300, 'MLP__solver': 'adam', 'pca__n_components': 40}</td>  \n",
    "       </tr>\n",
    "   \n",
    "   \n",
    "         <tr>\n",
    "           <td style=\\\"background-color:#F2F4F7\\\" rowspan=\\\"2\\\">Big dataset with Macro on PCA</td>\n",
    "           <td style=\\\"background-color:#F2F4F7\\\" rowspan=\\\"3\\\">\n",
    "              hidden_layer_sizes = [(100,)],\n",
    "    activation = ['logistic'],\n",
    "    solver = ['adam'],\n",
    "    max_iter = [300],\n",
    "    learning_rate = ['constant'],\n",
    "    alpha = [ 0.0002],\n",
    "    n_components=[20, 40, 60, 80, 100]\n",
    "          </td>\n",
    "    \n",
    "           <td style=\\\"background-color:#F2F4F7\\\" rowspan=\\\"2\\\">\n",
    "           {'MLP__activation': 'logistic', 'MLP__alpha': 0.0002, 'MLP__hidden_layer_sizes': (100,), 'MLP__learning_rate': 'constant', 'MLP__max_iter': 300, 'MLP__solver': 'adam', 'pca__n_components': 60}</td>  \n",
    "       </tr>\n",
    "   \n",
    "           <tr>\n",
    "           <td style=\\\"background-color:#F2F4F7\\\" rowspan=\\\"2\\\">Big dataset with Micro on PCA</td>\n",
    "           <td style=\\\"background-color:#F2F4F7\\\" rowspan=\\\"3\\\">\n",
    "                        hidden_layer_sizes = [(100,)],\n",
    "    activation = ['logistic'],\n",
    "    solver = ['adam'],\n",
    "    max_iter = [300],\n",
    "    learning_rate = ['constant'],\n",
    "    alpha = [ 0.0002],\n",
    "    n_components=[20, 40, 60, 80, 100]\n",
    "          </td>\n",
    "    \n",
    "           <td style=\\\"background-color:#F2F4F7\\\" rowspan=\\\"2\\\">\n",
    "            {'MLP__activation': 'logistic', 'MLP__alpha': 0.0002, 'MLP__hidden_layer_sizes': (100,), 'MLP__learning_rate': 'constant', 'MLP__max_iter': 300, 'MLP__solver': 'adam', 'pca__n_components': 60}</td>  \n",
    "       </tr>\n",
    "   \n",
    "   \n",
    "          </tr>\n",
    "   \n",
    "           <tr>\n",
    "           <td style=\\\"background-color:#F2F4F7\\\" rowspan=\\\"2\\\">Big dataset no norm</td>\n",
    "           <td style=\\\"background-color:#F2F4F7\\\" rowspan=\\\"3\\\">\n",
    "             Same as above\n",
    "          </td>\n",
    "    \n",
    "           <td style=\\\"background-color:#F2F4F7\\\" rowspan=\\\"2\\\">\n",
    "            {'MLP__activation': 'logistic', 'MLP__alpha': 0.0002, 'MLP__hidden_layer_sizes': (100,), 'MLP__learning_rate': 'constant', 'MLP__max_iter': 300, 'MLP__solver': 'adam', 'pca__n_components': 40}</td>  \n",
    "       </tr>\n",
    "       \n",
    "           \n",
    "                      <tr>\n",
    "           <td style=\\\"background-color:#F2F4F7\\\" rowspan=\\\"2\\\">Big dataset minmax</td>\n",
    "           <td style=\\\"background-color:#F2F4F7\\\" rowspan=\\\"3\\\">\n",
    "             Same as above\n",
    "          </td>\n",
    "    \n",
    "           <td style=\\\"background-color:#F2F4F7\\\" rowspan=\\\"2\\\">\n",
    "            {'MLP__activation': 'logistic', 'MLP__alpha': 0.0002, 'MLP__hidden_layer_sizes': (100,), 'MLP__learning_rate': 'constant', 'MLP__max_iter': 300, 'MLP__solver': 'adam', 'pca__n_components': 40}</td>  \n",
    "       </tr>\n",
    "   </tbody>\n",
    "</table>"
   ]
  },
  {
   "cell_type": "code",
   "execution_count": null,
   "metadata": {},
   "outputs": [],
   "source": [
    "#----------- EOF -----------#"
   ]
  }
 ],
 "metadata": {
  "kernelspec": {
   "display_name": "Python 3",
   "language": "python",
   "name": "python3"
  },
  "language_info": {
   "codemirror_mode": {
    "name": "ipython",
    "version": 3
   },
   "file_extension": ".py",
   "mimetype": "text/x-python",
   "name": "python",
   "nbconvert_exporter": "python",
   "pygments_lexer": "ipython3",
   "version": "3.5.2"
  }
 },
 "nbformat": 4,
 "nbformat_minor": 1
}
